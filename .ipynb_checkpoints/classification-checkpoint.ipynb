{
 "cells": [
  {
   "cell_type": "markdown",
   "metadata": {
    "colab_type": "text",
    "id": "view-in-github"
   },
   "source": [
    "<a href=\"https://colab.research.google.com/github/edenau/Titanic/blob/master/classification.ipynb\" target=\"_parent\"><img src=\"https://colab.research.google.com/assets/colab-badge.svg\" alt=\"Open In Colab\"/></a>"
   ]
  },
  {
   "cell_type": "markdown",
   "metadata": {
    "colab_type": "text",
    "id": "fVrscpWk5uV5"
   },
   "source": [
    "# Python Setup "
   ]
  },
  {
   "cell_type": "code",
   "execution_count": 0,
   "metadata": {
    "colab": {
     "base_uri": "https://localhost:8080/",
     "height": 34
    },
    "colab_type": "code",
    "id": "DMGjWBxI6B7Y",
    "outputId": "266f72bc-27e3-43cb-e1fb-5923e8c24d6c"
   },
   "outputs": [
    {
     "name": "stdout",
     "output_type": "stream",
     "text": [
      "Libraries imported.\n"
     ]
    }
   ],
   "source": [
    "# Import libraries\n",
    "\n",
    "import numpy as np\n",
    "import pandas as pd\n",
    "import matplotlib.pyplot as plt\n",
    "import seaborn as sns\n",
    "print('Libraries imported.')"
   ]
  },
  {
   "cell_type": "code",
   "execution_count": 0,
   "metadata": {
    "colab": {
     "base_uri": "https://localhost:8080/",
     "height": 207
    },
    "colab_type": "code",
    "id": "VkW9OSU46FGP",
    "outputId": "4ed5abfc-be79-468e-df5a-99aefd5e7579"
   },
   "outputs": [
    {
     "name": "stdout",
     "output_type": "stream",
     "text": [
      "Go to this URL in a browser: https://accounts.google.com/o/oauth2/auth?client_id=947318989803-6bn6qk8qdgf4n4g3pfee6491hc0brc4i.apps.googleusercontent.com&redirect_uri=urn%3Aietf%3Awg%3Aoauth%3A2.0%3Aoob&scope=email%20https%3A%2F%2Fwww.googleapis.com%2Fauth%2Fdocs.test%20https%3A%2F%2Fwww.googleapis.com%2Fauth%2Fdrive%20https%3A%2F%2Fwww.googleapis.com%2Fauth%2Fdrive.photos.readonly%20https%3A%2F%2Fwww.googleapis.com%2Fauth%2Fpeopleapi.readonly&response_type=code\n",
      "\n",
      "Enter your authorization code:\n",
      "··········\n",
      "Mounted at /content/gdrive\n",
      "classification.ipynb   scaler.pkl\t\t  titanic_submission_04.csv\n",
      "fare_kde.png\t       test.csv\t\t\t  titanic_submission_05.csv\n",
      "gender_submission.csv  titanic_submission_01.csv  titanic_submission_06.csv\n",
      "model.pkl\t       titanic_submission_02.csv  train.csv\n",
      "model_soft.pkl\t       titanic_submission_03.csv\n"
     ]
    }
   ],
   "source": [
    "# Mount\n",
    "\n",
    "from google.colab import drive\n",
    "drive.mount('/content/gdrive')\n",
    "\n",
    "!ls '/content/gdrive/My Drive/Colab Notebooks/Kaggle/Titanic'"
   ]
  },
  {
   "cell_type": "markdown",
   "metadata": {
    "colab_type": "text",
    "id": "NnuaIuRr51gB"
   },
   "source": [
    "# Import Data"
   ]
  },
  {
   "cell_type": "code",
   "execution_count": 0,
   "metadata": {
    "colab": {
     "base_uri": "https://localhost:8080/",
     "height": 204
    },
    "colab_type": "code",
    "id": "kp7H0kNS6-ng",
    "outputId": "f3b0f08b-a083-45f7-b319-c0f7c3b4a3fa"
   },
   "outputs": [
    {
     "data": {
      "text/html": [
       "<div>\n",
       "<style scoped>\n",
       "    .dataframe tbody tr th:only-of-type {\n",
       "        vertical-align: middle;\n",
       "    }\n",
       "\n",
       "    .dataframe tbody tr th {\n",
       "        vertical-align: top;\n",
       "    }\n",
       "\n",
       "    .dataframe thead th {\n",
       "        text-align: right;\n",
       "    }\n",
       "</style>\n",
       "<table border=\"1\" class=\"dataframe\">\n",
       "  <thead>\n",
       "    <tr style=\"text-align: right;\">\n",
       "      <th></th>\n",
       "      <th>Survived</th>\n",
       "      <th>Pclass</th>\n",
       "      <th>Name</th>\n",
       "      <th>Sex</th>\n",
       "      <th>Age</th>\n",
       "      <th>SibSp</th>\n",
       "      <th>Parch</th>\n",
       "      <th>Fare</th>\n",
       "      <th>Cabin</th>\n",
       "      <th>Embarked</th>\n",
       "    </tr>\n",
       "  </thead>\n",
       "  <tbody>\n",
       "    <tr>\n",
       "      <th>0</th>\n",
       "      <td>0</td>\n",
       "      <td>3</td>\n",
       "      <td>Braund, Mr. Owen Harris</td>\n",
       "      <td>male</td>\n",
       "      <td>22.0</td>\n",
       "      <td>1</td>\n",
       "      <td>0</td>\n",
       "      <td>7.2500</td>\n",
       "      <td>NaN</td>\n",
       "      <td>S</td>\n",
       "    </tr>\n",
       "    <tr>\n",
       "      <th>1</th>\n",
       "      <td>1</td>\n",
       "      <td>1</td>\n",
       "      <td>Cumings, Mrs. John Bradley (Florence Briggs Th...</td>\n",
       "      <td>female</td>\n",
       "      <td>38.0</td>\n",
       "      <td>1</td>\n",
       "      <td>0</td>\n",
       "      <td>71.2833</td>\n",
       "      <td>C85</td>\n",
       "      <td>C</td>\n",
       "    </tr>\n",
       "    <tr>\n",
       "      <th>2</th>\n",
       "      <td>1</td>\n",
       "      <td>3</td>\n",
       "      <td>Heikkinen, Miss. Laina</td>\n",
       "      <td>female</td>\n",
       "      <td>26.0</td>\n",
       "      <td>0</td>\n",
       "      <td>0</td>\n",
       "      <td>7.9250</td>\n",
       "      <td>NaN</td>\n",
       "      <td>S</td>\n",
       "    </tr>\n",
       "    <tr>\n",
       "      <th>3</th>\n",
       "      <td>1</td>\n",
       "      <td>1</td>\n",
       "      <td>Futrelle, Mrs. Jacques Heath (Lily May Peel)</td>\n",
       "      <td>female</td>\n",
       "      <td>35.0</td>\n",
       "      <td>1</td>\n",
       "      <td>0</td>\n",
       "      <td>53.1000</td>\n",
       "      <td>C123</td>\n",
       "      <td>S</td>\n",
       "    </tr>\n",
       "    <tr>\n",
       "      <th>4</th>\n",
       "      <td>0</td>\n",
       "      <td>3</td>\n",
       "      <td>Allen, Mr. William Henry</td>\n",
       "      <td>male</td>\n",
       "      <td>35.0</td>\n",
       "      <td>0</td>\n",
       "      <td>0</td>\n",
       "      <td>8.0500</td>\n",
       "      <td>NaN</td>\n",
       "      <td>S</td>\n",
       "    </tr>\n",
       "  </tbody>\n",
       "</table>\n",
       "</div>"
      ],
      "text/plain": [
       "   Survived  Pclass                                               Name  \\\n",
       "0         0       3                            Braund, Mr. Owen Harris   \n",
       "1         1       1  Cumings, Mrs. John Bradley (Florence Briggs Th...   \n",
       "2         1       3                             Heikkinen, Miss. Laina   \n",
       "3         1       1       Futrelle, Mrs. Jacques Heath (Lily May Peel)   \n",
       "4         0       3                           Allen, Mr. William Henry   \n",
       "\n",
       "      Sex   Age  SibSp  Parch     Fare Cabin Embarked  \n",
       "0    male  22.0      1      0   7.2500   NaN        S  \n",
       "1  female  38.0      1      0  71.2833   C85        C  \n",
       "2  female  26.0      0      0   7.9250   NaN        S  \n",
       "3  female  35.0      1      0  53.1000  C123        S  \n",
       "4    male  35.0      0      0   8.0500   NaN        S  "
      ]
     },
     "execution_count": 3,
     "metadata": {
      "tags": []
     },
     "output_type": "execute_result"
    }
   ],
   "source": [
    "# Import training set\n",
    "\n",
    "DIR = '/content/gdrive/My Drive/Colab Notebooks/Kaggle/Titanic/'\n",
    "f = DIR + 'train.csv'\n",
    "train = pd.read_csv(f).drop(columns=['PassengerId', 'Ticket'])\n",
    "\n",
    "train.head()"
   ]
  },
  {
   "cell_type": "code",
   "execution_count": 0,
   "metadata": {
    "colab": {
     "base_uri": "https://localhost:8080/",
     "height": 204
    },
    "colab_type": "code",
    "id": "R6KgLZIj7aiM",
    "outputId": "44810129-9cc2-4d26-fe68-482601e39043"
   },
   "outputs": [
    {
     "data": {
      "text/html": [
       "<div>\n",
       "<style scoped>\n",
       "    .dataframe tbody tr th:only-of-type {\n",
       "        vertical-align: middle;\n",
       "    }\n",
       "\n",
       "    .dataframe tbody tr th {\n",
       "        vertical-align: top;\n",
       "    }\n",
       "\n",
       "    .dataframe thead th {\n",
       "        text-align: right;\n",
       "    }\n",
       "</style>\n",
       "<table border=\"1\" class=\"dataframe\">\n",
       "  <thead>\n",
       "    <tr style=\"text-align: right;\">\n",
       "      <th></th>\n",
       "      <th>Pclass</th>\n",
       "      <th>Name</th>\n",
       "      <th>Sex</th>\n",
       "      <th>Age</th>\n",
       "      <th>SibSp</th>\n",
       "      <th>Parch</th>\n",
       "      <th>Fare</th>\n",
       "      <th>Cabin</th>\n",
       "      <th>Embarked</th>\n",
       "    </tr>\n",
       "  </thead>\n",
       "  <tbody>\n",
       "    <tr>\n",
       "      <th>0</th>\n",
       "      <td>3</td>\n",
       "      <td>Kelly, Mr. James</td>\n",
       "      <td>male</td>\n",
       "      <td>34.5</td>\n",
       "      <td>0</td>\n",
       "      <td>0</td>\n",
       "      <td>7.8292</td>\n",
       "      <td>NaN</td>\n",
       "      <td>Q</td>\n",
       "    </tr>\n",
       "    <tr>\n",
       "      <th>1</th>\n",
       "      <td>3</td>\n",
       "      <td>Wilkes, Mrs. James (Ellen Needs)</td>\n",
       "      <td>female</td>\n",
       "      <td>47.0</td>\n",
       "      <td>1</td>\n",
       "      <td>0</td>\n",
       "      <td>7.0000</td>\n",
       "      <td>NaN</td>\n",
       "      <td>S</td>\n",
       "    </tr>\n",
       "    <tr>\n",
       "      <th>2</th>\n",
       "      <td>2</td>\n",
       "      <td>Myles, Mr. Thomas Francis</td>\n",
       "      <td>male</td>\n",
       "      <td>62.0</td>\n",
       "      <td>0</td>\n",
       "      <td>0</td>\n",
       "      <td>9.6875</td>\n",
       "      <td>NaN</td>\n",
       "      <td>Q</td>\n",
       "    </tr>\n",
       "    <tr>\n",
       "      <th>3</th>\n",
       "      <td>3</td>\n",
       "      <td>Wirz, Mr. Albert</td>\n",
       "      <td>male</td>\n",
       "      <td>27.0</td>\n",
       "      <td>0</td>\n",
       "      <td>0</td>\n",
       "      <td>8.6625</td>\n",
       "      <td>NaN</td>\n",
       "      <td>S</td>\n",
       "    </tr>\n",
       "    <tr>\n",
       "      <th>4</th>\n",
       "      <td>3</td>\n",
       "      <td>Hirvonen, Mrs. Alexander (Helga E Lindqvist)</td>\n",
       "      <td>female</td>\n",
       "      <td>22.0</td>\n",
       "      <td>1</td>\n",
       "      <td>1</td>\n",
       "      <td>12.2875</td>\n",
       "      <td>NaN</td>\n",
       "      <td>S</td>\n",
       "    </tr>\n",
       "  </tbody>\n",
       "</table>\n",
       "</div>"
      ],
      "text/plain": [
       "   Pclass                                          Name     Sex   Age  SibSp  \\\n",
       "0       3                              Kelly, Mr. James    male  34.5      0   \n",
       "1       3              Wilkes, Mrs. James (Ellen Needs)  female  47.0      1   \n",
       "2       2                     Myles, Mr. Thomas Francis    male  62.0      0   \n",
       "3       3                              Wirz, Mr. Albert    male  27.0      0   \n",
       "4       3  Hirvonen, Mrs. Alexander (Helga E Lindqvist)  female  22.0      1   \n",
       "\n",
       "   Parch     Fare Cabin Embarked  \n",
       "0      0   7.8292   NaN        Q  \n",
       "1      0   7.0000   NaN        S  \n",
       "2      0   9.6875   NaN        Q  \n",
       "3      0   8.6625   NaN        S  \n",
       "4      1  12.2875   NaN        S  "
      ]
     },
     "execution_count": 4,
     "metadata": {
      "tags": []
     },
     "output_type": "execute_result"
    }
   ],
   "source": [
    "# Import testing set\n",
    "\n",
    "f = DIR + 'test.csv'\n",
    "test = pd.read_csv(f)\n",
    "test_id = test['PassengerId']\n",
    "test = test.drop(columns=['PassengerId', 'Ticket'])\n",
    "\n",
    "test.head()"
   ]
  },
  {
   "cell_type": "code",
   "execution_count": 0,
   "metadata": {
    "colab": {
     "base_uri": "https://localhost:8080/",
     "height": 359
    },
    "colab_type": "code",
    "id": "3wTOjbXU7wyh",
    "outputId": "3ecfcd26-ef4e-4ba7-cc31-31488d68961b"
   },
   "outputs": [
    {
     "data": {
      "text/html": [
       "<div>\n",
       "<style scoped>\n",
       "    .dataframe tbody tr th:only-of-type {\n",
       "        vertical-align: middle;\n",
       "    }\n",
       "\n",
       "    .dataframe tbody tr th {\n",
       "        vertical-align: top;\n",
       "    }\n",
       "\n",
       "    .dataframe thead th {\n",
       "        text-align: right;\n",
       "    }\n",
       "</style>\n",
       "<table border=\"1\" class=\"dataframe\">\n",
       "  <thead>\n",
       "    <tr style=\"text-align: right;\">\n",
       "      <th></th>\n",
       "      <th>Train NaN</th>\n",
       "      <th>Percentage</th>\n",
       "      <th>Test NaN</th>\n",
       "      <th>Percentage</th>\n",
       "    </tr>\n",
       "  </thead>\n",
       "  <tbody>\n",
       "    <tr>\n",
       "      <th>Age</th>\n",
       "      <td>177</td>\n",
       "      <td>19.87</td>\n",
       "      <td>86.0</td>\n",
       "      <td>20.57</td>\n",
       "    </tr>\n",
       "    <tr>\n",
       "      <th>Cabin</th>\n",
       "      <td>687</td>\n",
       "      <td>77.10</td>\n",
       "      <td>327.0</td>\n",
       "      <td>78.23</td>\n",
       "    </tr>\n",
       "    <tr>\n",
       "      <th>Embarked</th>\n",
       "      <td>2</td>\n",
       "      <td>0.22</td>\n",
       "      <td>0.0</td>\n",
       "      <td>0.00</td>\n",
       "    </tr>\n",
       "    <tr>\n",
       "      <th>Fare</th>\n",
       "      <td>0</td>\n",
       "      <td>0.00</td>\n",
       "      <td>1.0</td>\n",
       "      <td>0.24</td>\n",
       "    </tr>\n",
       "    <tr>\n",
       "      <th>Name</th>\n",
       "      <td>0</td>\n",
       "      <td>0.00</td>\n",
       "      <td>0.0</td>\n",
       "      <td>0.00</td>\n",
       "    </tr>\n",
       "    <tr>\n",
       "      <th>Parch</th>\n",
       "      <td>0</td>\n",
       "      <td>0.00</td>\n",
       "      <td>0.0</td>\n",
       "      <td>0.00</td>\n",
       "    </tr>\n",
       "    <tr>\n",
       "      <th>Pclass</th>\n",
       "      <td>0</td>\n",
       "      <td>0.00</td>\n",
       "      <td>0.0</td>\n",
       "      <td>0.00</td>\n",
       "    </tr>\n",
       "    <tr>\n",
       "      <th>Sex</th>\n",
       "      <td>0</td>\n",
       "      <td>0.00</td>\n",
       "      <td>0.0</td>\n",
       "      <td>0.00</td>\n",
       "    </tr>\n",
       "    <tr>\n",
       "      <th>SibSp</th>\n",
       "      <td>0</td>\n",
       "      <td>0.00</td>\n",
       "      <td>0.0</td>\n",
       "      <td>0.00</td>\n",
       "    </tr>\n",
       "    <tr>\n",
       "      <th>Survived</th>\n",
       "      <td>0</td>\n",
       "      <td>0.00</td>\n",
       "      <td>NaN</td>\n",
       "      <td>NaN</td>\n",
       "    </tr>\n",
       "  </tbody>\n",
       "</table>\n",
       "</div>"
      ],
      "text/plain": [
       "          Train NaN  Percentage  Test NaN  Percentage\n",
       "Age             177       19.87      86.0       20.57\n",
       "Cabin           687       77.10     327.0       78.23\n",
       "Embarked          2        0.22       0.0        0.00\n",
       "Fare              0        0.00       1.0        0.24\n",
       "Name              0        0.00       0.0        0.00\n",
       "Parch             0        0.00       0.0        0.00\n",
       "Pclass            0        0.00       0.0        0.00\n",
       "Sex               0        0.00       0.0        0.00\n",
       "SibSp             0        0.00       0.0        0.00\n",
       "Survived          0        0.00       NaN         NaN"
      ]
     },
     "execution_count": 5,
     "metadata": {
      "tags": []
     },
     "output_type": "execute_result"
    }
   ],
   "source": [
    "# Check NaN\n",
    "\n",
    "s = [train, test]\n",
    "\n",
    "#train_nan_cnt, test_nan_cnt = train.isna().sum(), test.isna().sum()\n",
    "nan_cnt = [train_nan_cnt, test_nan_cnt] = [_s.isna().sum() for _s in s]\n",
    "nan_pc = [train_nan_pc, test_nan_pc] = [round(cnt / len(s) * 100, 2) for cnt, s in zip(nan_cnt, s)]\n",
    "\n",
    "order = [train_nan_cnt, train_nan_pc, test_nan_cnt, test_nan_pc]\n",
    "order_key = ['Train NaN', 'Percentage', 'Test NaN', 'Percentage']\n",
    "pd.concat(order, axis=1, keys=order_key)"
   ]
  },
  {
   "cell_type": "code",
   "execution_count": 0,
   "metadata": {
    "colab": {
     "base_uri": "https://localhost:8080/",
     "height": 586
    },
    "colab_type": "code",
    "id": "v7-qw6EY_aka",
    "outputId": "9f19d81a-971d-4434-d6ad-26a785b8418c"
   },
   "outputs": [
    {
     "name": "stderr",
     "output_type": "stream",
     "text": [
      "/usr/local/lib/python3.6/dist-packages/seaborn/categorical.py:1468: FutureWarning: remove_na is deprecated and is a private function. Do not use.\n",
      "  stat_data = remove_na(group_data[hue_mask])\n",
      "/usr/local/lib/python3.6/dist-packages/seaborn/categorical.py:1428: FutureWarning: remove_na is deprecated and is a private function. Do not use.\n",
      "  stat_data = remove_na(group_data)\n"
     ]
    },
    {
     "data": {
      "image/png": "[encoded data removed]",
      "text/plain": [
       "<Figure size 1152x576 with 2 Axes>"
      ]
     },
     "metadata": {
      "tags": []
     },
     "output_type": "display_data"
    }
   ],
   "source": [
    "# Visualize Pclass\n",
    "\n",
    "fig, axes = plt.subplots(1, 2, figsize=(16, 8))\n",
    "\n",
    "pal = {0:'gray', 1:'green'}\n",
    "ax = sns.countplot(x = 'Pclass', \n",
    "                   hue = 'Survived',\n",
    "                   data = train,\n",
    "                   palette = pal,\n",
    "                   ax = axes[0])\n",
    "\n",
    "ax.set_title('Pclass Distribution - Survived or not', fontsize=15)\n",
    "ax.set_xlabel('Pclass', fontsize=15)\n",
    "ax.set_ylabel('# Passenger Survived', fontsize=15)\n",
    "\n",
    "leg = ax.get_legend()\n",
    "leg.set_title('Survived')\n",
    "legs = leg.texts\n",
    "legs[0].set_text('No')\n",
    "legs[1].set_text('Yes')\n",
    "\n",
    "ax = sns.barplot(x = 'Pclass',\n",
    "                 y = 'Survived',\n",
    "                 data = train,\n",
    "                 ax = axes[1])\n",
    "\n",
    "ax.set_title('Pclass Ratio - Survived or not', fontsize=15)\n",
    "ax.set_xlabel('Pclass', fontsize=15)\n",
    "ax.set_ylabel('% Passenger Survived', fontsize=15)\n",
    "\n",
    "plt.show()"
   ]
  },
  {
   "cell_type": "markdown",
   "metadata": {
    "colab_type": "text",
    "id": "XZcNN8ZI57CU"
   },
   "source": [
    "# Visualization"
   ]
  },
  {
   "cell_type": "code",
   "execution_count": 0,
   "metadata": {
    "colab": {
     "base_uri": "https://localhost:8080/",
     "height": 416
    },
    "colab_type": "code",
    "id": "BXNUhSqU8EpW",
    "outputId": "f145c858-ee8a-4e72-e87d-4e7f0ba30484"
   },
   "outputs": [
    {
     "name": "stderr",
     "output_type": "stream",
     "text": [
      "/usr/local/lib/python3.6/dist-packages/seaborn/categorical.py:1468: FutureWarning: remove_na is deprecated and is a private function. Do not use.\n",
      "  stat_data = remove_na(group_data[hue_mask])\n"
     ]
    },
    {
     "data": {
      "image/png": "[encoded data removed]",
      "text/plain": [
       "<Figure size 576x396 with 1 Axes>"
      ]
     },
     "metadata": {
      "tags": []
     },
     "output_type": "display_data"
    }
   ],
   "source": [
    "# Visualize Sex\n",
    "\n",
    "pal = {0:'gray', 1:'green'}\n",
    "ax = sns.countplot(x = 'Sex', \n",
    "                   hue = 'Survived',\n",
    "                   data = train,\n",
    "                   palette = pal)\n",
    "\n",
    "plt.title('Sex Distribution - Survived or not', fontsize=15)\n",
    "plt.xlabel('Sex', fontsize=15)\n",
    "plt.ylabel('# Passenger Survived', fontsize=15)\n",
    "\n",
    "leg = ax.get_legend()\n",
    "leg.set_title('Survived')\n",
    "legs = leg.texts\n",
    "legs[0].set_text('No')\n",
    "legs[1].set_text('Yes')\n",
    "\n",
    "plt.show()"
   ]
  },
  {
   "cell_type": "code",
   "execution_count": 0,
   "metadata": {
    "colab": {
     "base_uri": "https://localhost:8080/",
     "height": 586
    },
    "colab_type": "code",
    "id": "G3ryTVivGEIa",
    "outputId": "fa3070fc-b55c-4080-fa3a-00da567f3868"
   },
   "outputs": [
    {
     "name": "stderr",
     "output_type": "stream",
     "text": [
      "/usr/local/lib/python3.6/dist-packages/statsmodels/nonparametric/kde.py:454: RuntimeWarning: invalid value encountered in greater\n",
      "  X = X[np.logical_and(X>clip[0], X<clip[1])] # won't work for two columns.\n",
      "/usr/local/lib/python3.6/dist-packages/statsmodels/nonparametric/kde.py:454: RuntimeWarning: invalid value encountered in less\n",
      "  X = X[np.logical_and(X>clip[0], X<clip[1])] # won't work for two columns.\n"
     ]
    },
    {
     "data": {
      "image/png": "[encoded data removed]",
      "text/plain": [
       "<Figure size 1152x576 with 1 Axes>"
      ]
     },
     "metadata": {
      "tags": []
     },
     "output_type": "display_data"
    }
   ],
   "source": [
    "# Visualize Age (rmb lots of missing data)\n",
    "\n",
    "fig = plt.figure(figsize=(16,8))\n",
    "\n",
    "ax = sns.kdeplot(train[train['Survived'] == 0]['Age'] , \n",
    "                 color = 'gray',\n",
    "                 shade = True,\n",
    "                 label='Not Survived')\n",
    "\n",
    "ax = sns.kdeplot(train[train['Survived'] == 1]['Age'] , \n",
    "                 color = 'green',\n",
    "                 shade = True,\n",
    "                 label='Survived')\n",
    "\n",
    "ax.set_title('Age Distribution - Survived or not', fontsize=15)\n",
    "ax.set_xlabel('Age', fontsize = 15)\n",
    "ax.set_ylabel('Frequency of Passenger Survived', fontsize =15)\n",
    "plt.show()"
   ]
  },
  {
   "cell_type": "code",
   "execution_count": 0,
   "metadata": {
    "colab": {
     "base_uri": "https://localhost:8080/",
     "height": 518
    },
    "colab_type": "code",
    "id": "VS8tnLV3BGSE",
    "outputId": "f9b8494b-1637-4ee8-9d3f-9f5f43cacc00"
   },
   "outputs": [
    {
     "data": {
      "image/png": "[encoded data removed]",
      "text/plain": [
       "<Figure size 1152x576 with 1 Axes>"
      ]
     },
     "metadata": {
      "tags": []
     },
     "output_type": "display_data"
    }
   ],
   "source": [
    "# Visualize Fare\n",
    "\n",
    "fig = plt.figure(figsize=(16,8))\n",
    "\n",
    "ax = sns.kdeplot(train[train['Survived'] == 0]['Fare'] , \n",
    "                 color = 'gray',\n",
    "                 shade = True,\n",
    "                 label='Not Survived')\n",
    "\n",
    "ax = sns.kdeplot(train[train['Survived'] == 1]['Fare'] , \n",
    "                 color = 'green',\n",
    "                 shade = True,\n",
    "                 label='Survived')\n",
    "\n",
    "ax.set_title('Fare Distribution - Survived or not', fontsize=15)\n",
    "ax.set_xlabel('Fare', fontsize = 15)\n",
    "ax.set_ylabel('Frequency of Passenger Survived', fontsize =15)\n",
    "plt.show()"
   ]
  },
  {
   "cell_type": "code",
   "execution_count": 0,
   "metadata": {
    "colab": {
     "base_uri": "https://localhost:8080/",
     "height": 518
    },
    "colab_type": "code",
    "id": "xiUah-6vaGfA",
    "outputId": "6c25bb81-072e-434e-c220-d50d767a46dd"
   },
   "outputs": [
    {
     "data": {
      "image/png": "[encoded data removed]",
      "text/plain": [
       "<Figure size 1152x576 with 1 Axes>"
      ]
     },
     "metadata": {
      "tags": []
     },
     "output_type": "display_data"
    }
   ],
   "source": [
    "# Visualize Fare\n",
    "\n",
    "fig = plt.figure(figsize=(16,8))\n",
    "\n",
    "ax = sns.kdeplot(train['Fare'] , \n",
    "                 color = 'green',\n",
    "                 shade = True)\n",
    "\n",
    "ax.set_title('Fare Distribution', fontsize=15)\n",
    "ax.set_xlabel('Fare', fontsize = 15)\n",
    "ax.set_ylabel('Density', fontsize =15)\n",
    "ax.set_xlim([-10,280])\n",
    "#plt.show()\n",
    "\n",
    "DIR = '/content/gdrive/My Drive/Colab Notebooks/Kaggle/Titanic/'\n",
    "f = DIR + 'fare_kde.png'\n",
    "plt.savefig(f)"
   ]
  },
  {
   "cell_type": "code",
   "execution_count": 0,
   "metadata": {
    "colab": {
     "base_uri": "https://localhost:8080/",
     "height": 142
    },
    "colab_type": "code",
    "id": "mifp9tOYFhDx",
    "outputId": "62de44c8-a42a-4445-eb0f-a27804b5e434"
   },
   "outputs": [
    {
     "data": {
      "text/html": [
       "<div>\n",
       "<style scoped>\n",
       "    .dataframe tbody tr th:only-of-type {\n",
       "        vertical-align: middle;\n",
       "    }\n",
       "\n",
       "    .dataframe tbody tr th {\n",
       "        vertical-align: top;\n",
       "    }\n",
       "\n",
       "    .dataframe thead th {\n",
       "        text-align: right;\n",
       "    }\n",
       "</style>\n",
       "<table border=\"1\" class=\"dataframe\">\n",
       "  <thead>\n",
       "    <tr style=\"text-align: right;\">\n",
       "      <th></th>\n",
       "      <th>Survived</th>\n",
       "      <th>Pclass</th>\n",
       "      <th>Name</th>\n",
       "      <th>Sex</th>\n",
       "      <th>Age</th>\n",
       "      <th>SibSp</th>\n",
       "      <th>Parch</th>\n",
       "      <th>Fare</th>\n",
       "      <th>Cabin</th>\n",
       "      <th>Embarked</th>\n",
       "    </tr>\n",
       "  </thead>\n",
       "  <tbody>\n",
       "    <tr>\n",
       "      <th>258</th>\n",
       "      <td>1</td>\n",
       "      <td>1</td>\n",
       "      <td>Ward, Miss. Anna</td>\n",
       "      <td>female</td>\n",
       "      <td>35.0</td>\n",
       "      <td>0</td>\n",
       "      <td>0</td>\n",
       "      <td>512.3292</td>\n",
       "      <td>NaN</td>\n",
       "      <td>C</td>\n",
       "    </tr>\n",
       "    <tr>\n",
       "      <th>679</th>\n",
       "      <td>1</td>\n",
       "      <td>1</td>\n",
       "      <td>Cardeza, Mr. Thomas Drake Martinez</td>\n",
       "      <td>male</td>\n",
       "      <td>36.0</td>\n",
       "      <td>0</td>\n",
       "      <td>1</td>\n",
       "      <td>512.3292</td>\n",
       "      <td>B51 B53 B55</td>\n",
       "      <td>C</td>\n",
       "    </tr>\n",
       "    <tr>\n",
       "      <th>737</th>\n",
       "      <td>1</td>\n",
       "      <td>1</td>\n",
       "      <td>Lesurer, Mr. Gustave J</td>\n",
       "      <td>male</td>\n",
       "      <td>35.0</td>\n",
       "      <td>0</td>\n",
       "      <td>0</td>\n",
       "      <td>512.3292</td>\n",
       "      <td>B101</td>\n",
       "      <td>C</td>\n",
       "    </tr>\n",
       "  </tbody>\n",
       "</table>\n",
       "</div>"
      ],
      "text/plain": [
       "     Survived  Pclass                                Name     Sex   Age  \\\n",
       "258         1       1                    Ward, Miss. Anna  female  35.0   \n",
       "679         1       1  Cardeza, Mr. Thomas Drake Martinez    male  36.0   \n",
       "737         1       1              Lesurer, Mr. Gustave J    male  35.0   \n",
       "\n",
       "     SibSp  Parch      Fare        Cabin Embarked  \n",
       "258      0      0  512.3292          NaN        C  \n",
       "679      0      1  512.3292  B51 B53 B55        C  \n",
       "737      0      0  512.3292         B101        C  "
      ]
     },
     "execution_count": 11,
     "metadata": {
      "tags": []
     },
     "output_type": "execute_result"
    }
   ],
   "source": [
    "# Investigate the long tail in the plot above\n",
    "\n",
    "train[train['Fare'] > 280]"
   ]
  },
  {
   "cell_type": "code",
   "execution_count": 0,
   "metadata": {
    "colab": {
     "base_uri": "https://localhost:8080/",
     "height": 586
    },
    "colab_type": "code",
    "id": "UsmlsQYGNKUc",
    "outputId": "35eae463-b0fa-4693-fdfe-00d4ca8a1e8b"
   },
   "outputs": [
    {
     "name": "stderr",
     "output_type": "stream",
     "text": [
      "/usr/local/lib/python3.6/dist-packages/seaborn/categorical.py:1468: FutureWarning: remove_na is deprecated and is a private function. Do not use.\n",
      "  stat_data = remove_na(group_data[hue_mask])\n",
      "/usr/local/lib/python3.6/dist-packages/seaborn/categorical.py:1428: FutureWarning: remove_na is deprecated and is a private function. Do not use.\n",
      "  stat_data = remove_na(group_data)\n"
     ]
    },
    {
     "data": {
      "image/png": "[encoded data removed]",
      "text/plain": [
       "<Figure size 1152x576 with 2 Axes>"
      ]
     },
     "metadata": {
      "tags": []
     },
     "output_type": "display_data"
    }
   ],
   "source": [
    "# Visualize Embarked\n",
    "\n",
    "fig, axes = plt.subplots(1, 2, figsize=(16, 8))\n",
    "\n",
    "pal = {0:'gray', 1:'green'}\n",
    "ax = sns.countplot(x = 'Embarked', \n",
    "                   hue = 'Survived',\n",
    "                   data = train,\n",
    "                   palette = pal,\n",
    "                   ax = axes[0])\n",
    "\n",
    "ax.set_title('Embarked Distribution - Survived or not', fontsize=15)\n",
    "ax.set_xlabel('Embarked', fontsize=15)\n",
    "ax.set_ylabel('# Passenger Survived', fontsize=15)\n",
    "\n",
    "leg = ax.get_legend()\n",
    "leg.set_title('Survived')\n",
    "legs = leg.texts\n",
    "legs[0].set_text('No')\n",
    "legs[1].set_text('Yes')\n",
    "\n",
    "ax = sns.barplot(x = 'Embarked',\n",
    "                 y = 'Survived',\n",
    "                 data = train,\n",
    "                 ax = axes[1])\n",
    "\n",
    "ax.set_title('Embarked Ratio - Survived or not', fontsize=15)\n",
    "ax.set_xlabel('Embarked', fontsize=15)\n",
    "ax.set_ylabel('% Passenger Survived', fontsize=15)\n",
    "\n",
    "plt.show()"
   ]
  },
  {
   "cell_type": "code",
   "execution_count": 0,
   "metadata": {
    "colab": {},
    "colab_type": "code",
    "collapsed": true,
    "id": "gk3K3HVZKR0F"
   },
   "outputs": [],
   "source": [
    "# Encode Sex as binary\n",
    "\n",
    "train['Sex'] = train['Sex'].apply(lambda sex: 0 if sex == 'female' else 1)\n",
    "test['Sex'] = test['Sex'].apply(lambda sex: 0 if sex == 'female' else 1)"
   ]
  },
  {
   "cell_type": "code",
   "execution_count": 0,
   "metadata": {
    "colab": {
     "base_uri": "https://localhost:8080/",
     "height": 1417
    },
    "colab_type": "code",
    "id": "URFSpst5Gnps",
    "outputId": "300643e8-195e-493e-ebc6-e65af90355fa"
   },
   "outputs": [
    {
     "name": "stderr",
     "output_type": "stream",
     "text": [
      "/usr/local/lib/python3.6/dist-packages/statsmodels/nonparametric/kde.py:494: RuntimeWarning: invalid value encountered in true_divide\n",
      "  binned = fast_linbin(X,a,b,gridsize)/(delta*nobs)\n",
      "/usr/local/lib/python3.6/dist-packages/statsmodels/nonparametric/kdetools.py:34: RuntimeWarning: invalid value encountered in double_scalars\n",
      "  FAC1 = 2*(np.pi*bw/RANGE)**2\n",
      "/usr/local/lib/python3.6/dist-packages/statsmodels/nonparametric/kde.py:454: RuntimeWarning: invalid value encountered in greater\n",
      "  X = X[np.logical_and(X>clip[0], X<clip[1])] # won't work for two columns.\n",
      "/usr/local/lib/python3.6/dist-packages/statsmodels/nonparametric/kde.py:454: RuntimeWarning: invalid value encountered in less\n",
      "  X = X[np.logical_and(X>clip[0], X<clip[1])] # won't work for two columns.\n"
     ]
    },
    {
     "data": {
      "image/png": "[encoded data removed]",
      "text/plain": [
       "<Figure size 1304.75x1260 with 56 Axes>"
      ]
     },
     "metadata": {
      "tags": []
     },
     "output_type": "display_data"
    }
   ],
   "source": [
    "# Pairplot\n",
    "\n",
    "pal = {0:'gray', 1:'green'}\n",
    "ax = sns.pairplot(train, \n",
    "                  hue = 'Survived',\n",
    "                  diag_kind = 'kde',\n",
    "                  palette = pal)\n",
    "\n",
    "plt.show()"
   ]
  },
  {
   "cell_type": "code",
   "execution_count": 0,
   "metadata": {
    "colab": {
     "base_uri": "https://localhost:8080/",
     "height": 554
    },
    "colab_type": "code",
    "id": "SzZcboXxIciD",
    "outputId": "d6445dce-9cf4-4e80-9842-c698e43f928f"
   },
   "outputs": [
    {
     "data": {
      "image/png": "[encoded data removed]",
      "text/plain": [
       "<Figure size 792x648 with 2 Axes>"
      ]
     },
     "metadata": {
      "tags": []
     },
     "output_type": "display_data"
    }
   ],
   "source": [
    "# Correlation matrix\n",
    "\n",
    "corr = train.corr()\n",
    "\n",
    "# Generate a mask for the upper triangle\n",
    "mask = np.zeros_like(corr, dtype=np.bool)\n",
    "mask[np.triu_indices_from(mask)] = True\n",
    "\n",
    "# Set up the matplotlib figure\n",
    "f, ax = plt.subplots(figsize=(11, 9))\n",
    "\n",
    "# Draw the heatmap with the mask and correct aspect ratio\n",
    "sns.heatmap(corr, \n",
    "            mask=mask,\n",
    "            annot=True,\n",
    "            vmax=.5,\n",
    "            center=0,\n",
    "            square=True, \n",
    "            linewidths=.5, \n",
    "            cbar_kws={\"shrink\": .75})\n",
    "plt.title('Correlation matrix', fontsize = 15)\n",
    "\n",
    "plt.show()"
   ]
  },
  {
   "cell_type": "markdown",
   "metadata": {
    "colab_type": "text",
    "id": "f5CxPowD6EW2"
   },
   "source": [
    "# Group By"
   ]
  },
  {
   "cell_type": "code",
   "execution_count": 0,
   "metadata": {
    "colab": {
     "base_uri": "https://localhost:8080/",
     "height": 193
    },
    "colab_type": "code",
    "id": "-OSycN5_IwRD",
    "outputId": "54d04201-f19d-4cc2-c230-8852e2e6d569"
   },
   "outputs": [
    {
     "data": {
      "text/html": [
       "<div>\n",
       "<style scoped>\n",
       "    .dataframe tbody tr th:only-of-type {\n",
       "        vertical-align: middle;\n",
       "    }\n",
       "\n",
       "    .dataframe tbody tr th {\n",
       "        vertical-align: top;\n",
       "    }\n",
       "\n",
       "    .dataframe thead th {\n",
       "        text-align: right;\n",
       "    }\n",
       "</style>\n",
       "<table border=\"1\" class=\"dataframe\">\n",
       "  <thead>\n",
       "    <tr style=\"text-align: right;\">\n",
       "      <th></th>\n",
       "      <th>Survived</th>\n",
       "      <th>Sex</th>\n",
       "      <th>Age</th>\n",
       "      <th>SibSp</th>\n",
       "      <th>Parch</th>\n",
       "      <th>Fare</th>\n",
       "    </tr>\n",
       "    <tr>\n",
       "      <th>Pclass</th>\n",
       "      <th></th>\n",
       "      <th></th>\n",
       "      <th></th>\n",
       "      <th></th>\n",
       "      <th></th>\n",
       "      <th></th>\n",
       "    </tr>\n",
       "  </thead>\n",
       "  <tbody>\n",
       "    <tr>\n",
       "      <th>1</th>\n",
       "      <td>0.629630</td>\n",
       "      <td>0.564815</td>\n",
       "      <td>38.233441</td>\n",
       "      <td>0.416667</td>\n",
       "      <td>0.356481</td>\n",
       "      <td>84.154687</td>\n",
       "    </tr>\n",
       "    <tr>\n",
       "      <th>2</th>\n",
       "      <td>0.472826</td>\n",
       "      <td>0.586957</td>\n",
       "      <td>29.877630</td>\n",
       "      <td>0.402174</td>\n",
       "      <td>0.380435</td>\n",
       "      <td>20.662183</td>\n",
       "    </tr>\n",
       "    <tr>\n",
       "      <th>3</th>\n",
       "      <td>0.242363</td>\n",
       "      <td>0.706721</td>\n",
       "      <td>25.140620</td>\n",
       "      <td>0.615071</td>\n",
       "      <td>0.393075</td>\n",
       "      <td>13.675550</td>\n",
       "    </tr>\n",
       "  </tbody>\n",
       "</table>\n",
       "</div>"
      ],
      "text/plain": [
       "        Survived       Sex        Age     SibSp     Parch       Fare\n",
       "Pclass                                                              \n",
       "1       0.629630  0.564815  38.233441  0.416667  0.356481  84.154687\n",
       "2       0.472826  0.586957  29.877630  0.402174  0.380435  20.662183\n",
       "3       0.242363  0.706721  25.140620  0.615071  0.393075  13.675550"
      ]
     },
     "execution_count": 16,
     "metadata": {
      "tags": []
     },
     "output_type": "execute_result"
    }
   ],
   "source": [
    "# Groupby\n",
    "\n",
    "train.groupby('Pclass').mean()"
   ]
  },
  {
   "cell_type": "code",
   "execution_count": 0,
   "metadata": {
    "colab": {
     "base_uri": "https://localhost:8080/",
     "height": 162
    },
    "colab_type": "code",
    "id": "1CWS13zpLYLU",
    "outputId": "cbc1c061-3d27-46ba-f392-6dfcdb64cca8"
   },
   "outputs": [
    {
     "data": {
      "text/html": [
       "<div>\n",
       "<style scoped>\n",
       "    .dataframe tbody tr th:only-of-type {\n",
       "        vertical-align: middle;\n",
       "    }\n",
       "\n",
       "    .dataframe tbody tr th {\n",
       "        vertical-align: top;\n",
       "    }\n",
       "\n",
       "    .dataframe thead th {\n",
       "        text-align: right;\n",
       "    }\n",
       "</style>\n",
       "<table border=\"1\" class=\"dataframe\">\n",
       "  <thead>\n",
       "    <tr style=\"text-align: right;\">\n",
       "      <th></th>\n",
       "      <th>Survived</th>\n",
       "      <th>Pclass</th>\n",
       "      <th>Age</th>\n",
       "      <th>SibSp</th>\n",
       "      <th>Parch</th>\n",
       "      <th>Fare</th>\n",
       "    </tr>\n",
       "    <tr>\n",
       "      <th>Sex</th>\n",
       "      <th></th>\n",
       "      <th></th>\n",
       "      <th></th>\n",
       "      <th></th>\n",
       "      <th></th>\n",
       "      <th></th>\n",
       "    </tr>\n",
       "  </thead>\n",
       "  <tbody>\n",
       "    <tr>\n",
       "      <th>0</th>\n",
       "      <td>0.742038</td>\n",
       "      <td>2.159236</td>\n",
       "      <td>27.915709</td>\n",
       "      <td>0.694268</td>\n",
       "      <td>0.649682</td>\n",
       "      <td>44.479818</td>\n",
       "    </tr>\n",
       "    <tr>\n",
       "      <th>1</th>\n",
       "      <td>0.188908</td>\n",
       "      <td>2.389948</td>\n",
       "      <td>30.726645</td>\n",
       "      <td>0.429809</td>\n",
       "      <td>0.235702</td>\n",
       "      <td>25.523893</td>\n",
       "    </tr>\n",
       "  </tbody>\n",
       "</table>\n",
       "</div>"
      ],
      "text/plain": [
       "     Survived    Pclass        Age     SibSp     Parch       Fare\n",
       "Sex                                                              \n",
       "0    0.742038  2.159236  27.915709  0.694268  0.649682  44.479818\n",
       "1    0.188908  2.389948  30.726645  0.429809  0.235702  25.523893"
      ]
     },
     "execution_count": 17,
     "metadata": {
      "tags": []
     },
     "output_type": "execute_result"
    }
   ],
   "source": [
    "train.groupby('Sex').mean()"
   ]
  },
  {
   "cell_type": "code",
   "execution_count": 0,
   "metadata": {
    "colab": {
     "base_uri": "https://localhost:8080/",
     "height": 317
    },
    "colab_type": "code",
    "id": "6MmSHizeLvIl",
    "outputId": "556c64d3-f10c-4e9e-b3a6-63bddfab6c1f"
   },
   "outputs": [
    {
     "data": {
      "text/html": [
       "<div>\n",
       "<style scoped>\n",
       "    .dataframe tbody tr th:only-of-type {\n",
       "        vertical-align: middle;\n",
       "    }\n",
       "\n",
       "    .dataframe tbody tr th {\n",
       "        vertical-align: top;\n",
       "    }\n",
       "\n",
       "    .dataframe thead th {\n",
       "        text-align: right;\n",
       "    }\n",
       "</style>\n",
       "<table border=\"1\" class=\"dataframe\">\n",
       "  <thead>\n",
       "    <tr style=\"text-align: right;\">\n",
       "      <th></th>\n",
       "      <th>Survived</th>\n",
       "      <th>Pclass</th>\n",
       "      <th>Sex</th>\n",
       "      <th>Age</th>\n",
       "      <th>Parch</th>\n",
       "      <th>Fare</th>\n",
       "    </tr>\n",
       "    <tr>\n",
       "      <th>SibSp</th>\n",
       "      <th></th>\n",
       "      <th></th>\n",
       "      <th></th>\n",
       "      <th></th>\n",
       "      <th></th>\n",
       "      <th></th>\n",
       "    </tr>\n",
       "  </thead>\n",
       "  <tbody>\n",
       "    <tr>\n",
       "      <th>0</th>\n",
       "      <td>0.345395</td>\n",
       "      <td>2.351974</td>\n",
       "      <td>0.713816</td>\n",
       "      <td>31.397558</td>\n",
       "      <td>0.185855</td>\n",
       "      <td>25.692028</td>\n",
       "    </tr>\n",
       "    <tr>\n",
       "      <th>1</th>\n",
       "      <td>0.535885</td>\n",
       "      <td>2.057416</td>\n",
       "      <td>0.492823</td>\n",
       "      <td>30.089727</td>\n",
       "      <td>0.655502</td>\n",
       "      <td>44.147370</td>\n",
       "    </tr>\n",
       "    <tr>\n",
       "      <th>2</th>\n",
       "      <td>0.464286</td>\n",
       "      <td>2.357143</td>\n",
       "      <td>0.535714</td>\n",
       "      <td>22.620000</td>\n",
       "      <td>0.642857</td>\n",
       "      <td>51.753718</td>\n",
       "    </tr>\n",
       "    <tr>\n",
       "      <th>3</th>\n",
       "      <td>0.250000</td>\n",
       "      <td>2.562500</td>\n",
       "      <td>0.312500</td>\n",
       "      <td>13.916667</td>\n",
       "      <td>1.312500</td>\n",
       "      <td>68.908862</td>\n",
       "    </tr>\n",
       "    <tr>\n",
       "      <th>4</th>\n",
       "      <td>0.166667</td>\n",
       "      <td>3.000000</td>\n",
       "      <td>0.666667</td>\n",
       "      <td>7.055556</td>\n",
       "      <td>1.500000</td>\n",
       "      <td>31.855556</td>\n",
       "    </tr>\n",
       "    <tr>\n",
       "      <th>5</th>\n",
       "      <td>0.000000</td>\n",
       "      <td>3.000000</td>\n",
       "      <td>0.800000</td>\n",
       "      <td>10.200000</td>\n",
       "      <td>2.000000</td>\n",
       "      <td>46.900000</td>\n",
       "    </tr>\n",
       "    <tr>\n",
       "      <th>8</th>\n",
       "      <td>0.000000</td>\n",
       "      <td>3.000000</td>\n",
       "      <td>0.571429</td>\n",
       "      <td>NaN</td>\n",
       "      <td>2.000000</td>\n",
       "      <td>69.550000</td>\n",
       "    </tr>\n",
       "  </tbody>\n",
       "</table>\n",
       "</div>"
      ],
      "text/plain": [
       "       Survived    Pclass       Sex        Age     Parch       Fare\n",
       "SibSp                                                              \n",
       "0      0.345395  2.351974  0.713816  31.397558  0.185855  25.692028\n",
       "1      0.535885  2.057416  0.492823  30.089727  0.655502  44.147370\n",
       "2      0.464286  2.357143  0.535714  22.620000  0.642857  51.753718\n",
       "3      0.250000  2.562500  0.312500  13.916667  1.312500  68.908862\n",
       "4      0.166667  3.000000  0.666667   7.055556  1.500000  31.855556\n",
       "5      0.000000  3.000000  0.800000  10.200000  2.000000  46.900000\n",
       "8      0.000000  3.000000  0.571429        NaN  2.000000  69.550000"
      ]
     },
     "execution_count": 18,
     "metadata": {
      "tags": []
     },
     "output_type": "execute_result"
    }
   ],
   "source": [
    "train.groupby('SibSp').mean()"
   ]
  },
  {
   "cell_type": "code",
   "execution_count": 0,
   "metadata": {
    "colab": {
     "base_uri": "https://localhost:8080/",
     "height": 317
    },
    "colab_type": "code",
    "id": "MSCcDnztLw6B",
    "outputId": "3cc4ee4d-6d85-4319-b308-204582fd4f84"
   },
   "outputs": [
    {
     "data": {
      "text/html": [
       "<div>\n",
       "<style scoped>\n",
       "    .dataframe tbody tr th:only-of-type {\n",
       "        vertical-align: middle;\n",
       "    }\n",
       "\n",
       "    .dataframe tbody tr th {\n",
       "        vertical-align: top;\n",
       "    }\n",
       "\n",
       "    .dataframe thead th {\n",
       "        text-align: right;\n",
       "    }\n",
       "</style>\n",
       "<table border=\"1\" class=\"dataframe\">\n",
       "  <thead>\n",
       "    <tr style=\"text-align: right;\">\n",
       "      <th></th>\n",
       "      <th>Survived</th>\n",
       "      <th>Pclass</th>\n",
       "      <th>Sex</th>\n",
       "      <th>Age</th>\n",
       "      <th>SibSp</th>\n",
       "      <th>Fare</th>\n",
       "    </tr>\n",
       "    <tr>\n",
       "      <th>Parch</th>\n",
       "      <th></th>\n",
       "      <th></th>\n",
       "      <th></th>\n",
       "      <th></th>\n",
       "      <th></th>\n",
       "      <th></th>\n",
       "    </tr>\n",
       "  </thead>\n",
       "  <tbody>\n",
       "    <tr>\n",
       "      <th>0</th>\n",
       "      <td>0.343658</td>\n",
       "      <td>2.321534</td>\n",
       "      <td>0.713864</td>\n",
       "      <td>32.178503</td>\n",
       "      <td>0.237463</td>\n",
       "      <td>25.586774</td>\n",
       "    </tr>\n",
       "    <tr>\n",
       "      <th>1</th>\n",
       "      <td>0.550847</td>\n",
       "      <td>2.203390</td>\n",
       "      <td>0.491525</td>\n",
       "      <td>24.422000</td>\n",
       "      <td>1.084746</td>\n",
       "      <td>46.778180</td>\n",
       "    </tr>\n",
       "    <tr>\n",
       "      <th>2</th>\n",
       "      <td>0.500000</td>\n",
       "      <td>2.275000</td>\n",
       "      <td>0.387500</td>\n",
       "      <td>17.216912</td>\n",
       "      <td>2.062500</td>\n",
       "      <td>64.337604</td>\n",
       "    </tr>\n",
       "    <tr>\n",
       "      <th>3</th>\n",
       "      <td>0.600000</td>\n",
       "      <td>2.600000</td>\n",
       "      <td>0.200000</td>\n",
       "      <td>33.200000</td>\n",
       "      <td>1.000000</td>\n",
       "      <td>25.951660</td>\n",
       "    </tr>\n",
       "    <tr>\n",
       "      <th>4</th>\n",
       "      <td>0.000000</td>\n",
       "      <td>2.500000</td>\n",
       "      <td>0.500000</td>\n",
       "      <td>44.500000</td>\n",
       "      <td>0.750000</td>\n",
       "      <td>84.968750</td>\n",
       "    </tr>\n",
       "    <tr>\n",
       "      <th>5</th>\n",
       "      <td>0.200000</td>\n",
       "      <td>3.000000</td>\n",
       "      <td>0.200000</td>\n",
       "      <td>39.200000</td>\n",
       "      <td>0.600000</td>\n",
       "      <td>32.550000</td>\n",
       "    </tr>\n",
       "    <tr>\n",
       "      <th>6</th>\n",
       "      <td>0.000000</td>\n",
       "      <td>3.000000</td>\n",
       "      <td>0.000000</td>\n",
       "      <td>43.000000</td>\n",
       "      <td>1.000000</td>\n",
       "      <td>46.900000</td>\n",
       "    </tr>\n",
       "  </tbody>\n",
       "</table>\n",
       "</div>"
      ],
      "text/plain": [
       "       Survived    Pclass       Sex        Age     SibSp       Fare\n",
       "Parch                                                              \n",
       "0      0.343658  2.321534  0.713864  32.178503  0.237463  25.586774\n",
       "1      0.550847  2.203390  0.491525  24.422000  1.084746  46.778180\n",
       "2      0.500000  2.275000  0.387500  17.216912  2.062500  64.337604\n",
       "3      0.600000  2.600000  0.200000  33.200000  1.000000  25.951660\n",
       "4      0.000000  2.500000  0.500000  44.500000  0.750000  84.968750\n",
       "5      0.200000  3.000000  0.200000  39.200000  0.600000  32.550000\n",
       "6      0.000000  3.000000  0.000000  43.000000  1.000000  46.900000"
      ]
     },
     "execution_count": 19,
     "metadata": {
      "tags": []
     },
     "output_type": "execute_result"
    }
   ],
   "source": [
    "train.groupby('Parch').mean()"
   ]
  },
  {
   "cell_type": "markdown",
   "metadata": {
    "colab_type": "text",
    "id": "UDdPp_e_6HYU"
   },
   "source": [
    "# Embarked"
   ]
  },
  {
   "cell_type": "code",
   "execution_count": 0,
   "metadata": {
    "colab": {
     "base_uri": "https://localhost:8080/",
     "height": 250
    },
    "colab_type": "code",
    "id": "1A2Us24VMlkk",
    "outputId": "3b68813e-ad34-43bb-acb0-90ec367ba428"
   },
   "outputs": [
    {
     "data": {
      "text/html": [
       "<div>\n",
       "<style scoped>\n",
       "    .dataframe tbody tr th:only-of-type {\n",
       "        vertical-align: middle;\n",
       "    }\n",
       "\n",
       "    .dataframe tbody tr th {\n",
       "        vertical-align: top;\n",
       "    }\n",
       "\n",
       "    .dataframe thead th {\n",
       "        text-align: right;\n",
       "    }\n",
       "</style>\n",
       "<table border=\"1\" class=\"dataframe\">\n",
       "  <thead>\n",
       "    <tr style=\"text-align: right;\">\n",
       "      <th></th>\n",
       "      <th>Survived</th>\n",
       "      <th>Pclass</th>\n",
       "      <th>Name</th>\n",
       "      <th>Sex</th>\n",
       "      <th>Age</th>\n",
       "      <th>SibSp</th>\n",
       "      <th>Parch</th>\n",
       "      <th>Fare</th>\n",
       "      <th>Cabin</th>\n",
       "      <th>Embarked</th>\n",
       "    </tr>\n",
       "  </thead>\n",
       "  <tbody>\n",
       "    <tr>\n",
       "      <th>61</th>\n",
       "      <td>1</td>\n",
       "      <td>1</td>\n",
       "      <td>Icard, Miss. Amelie</td>\n",
       "      <td>0</td>\n",
       "      <td>38.0</td>\n",
       "      <td>0</td>\n",
       "      <td>0</td>\n",
       "      <td>80.0</td>\n",
       "      <td>B28</td>\n",
       "      <td>NaN</td>\n",
       "    </tr>\n",
       "    <tr>\n",
       "      <th>829</th>\n",
       "      <td>1</td>\n",
       "      <td>1</td>\n",
       "      <td>Stone, Mrs. George Nelson (Martha Evelyn)</td>\n",
       "      <td>0</td>\n",
       "      <td>62.0</td>\n",
       "      <td>0</td>\n",
       "      <td>0</td>\n",
       "      <td>80.0</td>\n",
       "      <td>B28</td>\n",
       "      <td>NaN</td>\n",
       "    </tr>\n",
       "  </tbody>\n",
       "</table>\n",
       "</div>"
      ],
      "text/plain": [
       "     Survived  Pclass                                       Name  Sex   Age  \\\n",
       "61          1       1                        Icard, Miss. Amelie    0  38.0   \n",
       "829         1       1  Stone, Mrs. George Nelson (Martha Evelyn)    0  62.0   \n",
       "\n",
       "     SibSp  Parch  Fare Cabin Embarked  \n",
       "61       0      0  80.0   B28      NaN  \n",
       "829      0      0  80.0   B28      NaN  "
      ]
     },
     "execution_count": 20,
     "metadata": {
      "tags": []
     },
     "output_type": "execute_result"
    }
   ],
   "source": [
    "# Fill NaN - Embarked in training set\n",
    "\n",
    "# Embarked location can be estimated by their fares\n",
    "train[train['Embarked'].isna()]"
   ]
  },
  {
   "cell_type": "code",
   "execution_count": 0,
   "metadata": {
    "colab": {
     "base_uri": "https://localhost:8080/",
     "height": 658
    },
    "colab_type": "code",
    "id": "lLRi2m6MN7aX",
    "outputId": "81c4d69a-2841-42ff-a731-55c11a9870d4"
   },
   "outputs": [
    {
     "name": "stderr",
     "output_type": "stream",
     "text": [
      "/usr/local/lib/python3.6/dist-packages/seaborn/categorical.py:482: FutureWarning: remove_na is deprecated and is a private function. Do not use.\n",
      "  box_data = remove_na(group_data[hue_mask])\n",
      "/usr/local/lib/python3.6/dist-packages/seaborn/categorical.py:454: FutureWarning: remove_na is deprecated and is a private function. Do not use.\n",
      "  box_data = remove_na(group_data)\n"
     ]
    },
    {
     "data": {
      "image/png": "[encoded data removed]",
      "text/plain": [
       "<Figure size 1152x648 with 3 Axes>"
      ]
     },
     "metadata": {
      "tags": []
     },
     "output_type": "display_data"
    }
   ],
   "source": [
    "# Box plot for Embarked\n",
    "\n",
    "fig, axes = plt.subplots(1, 3, figsize=(16,9))\n",
    "ax = sns.boxplot(x = 'Embarked',\n",
    "                 y = 'Fare',\n",
    "                 data = train,\n",
    "                 hue = 'Pclass',\n",
    "                 ax = axes[0])\n",
    "ax.set_title('Fare Distribution - Embarked location')\n",
    "ax.set_xlabel('Location', fontsize=15)\n",
    "ax.set_ylabel('Fare', fontsize=15)\n",
    "\n",
    "ax = sns.boxplot(x = 'Embarked',\n",
    "                 y = 'Fare',\n",
    "                 data = train[train['Pclass'] == 1],\n",
    "                 ax = axes[1])\n",
    "ax.set_title('Fare Distribution (first-class) - Embarked location')\n",
    "ax.set_xlabel('Location', fontsize=15)\n",
    "ax.set_ylabel('Fare', fontsize=15)\n",
    "\n",
    "\n",
    "ax = sns.boxplot(x = 'Embarked',\n",
    "                 y = 'Fare',\n",
    "                 data = train[(train['Pclass'] == 1) & train['Survived'] == 1],\n",
    "                 ax = axes[2])\n",
    "ax.set_title('Fare Distribution (first-class survivors) - Embarked location')\n",
    "ax.set_xlabel('Location', fontsize=15)\n",
    "ax.set_ylabel('Fare', fontsize=15)\n",
    "\n",
    "plt.show()"
   ]
  },
  {
   "cell_type": "code",
   "execution_count": 0,
   "metadata": {
    "colab": {},
    "colab_type": "code",
    "collapsed": true,
    "id": "by24zkpaQP0D"
   },
   "outputs": [],
   "source": [
    "# Fill NaN for Embarked - probably 'C'\n",
    "\n",
    "train['Embarked'].fillna('C', inplace=True)"
   ]
  },
  {
   "cell_type": "markdown",
   "metadata": {
    "colab_type": "text",
    "id": "88mlG4WJOPR8"
   },
   "source": [
    "# Fare"
   ]
  },
  {
   "cell_type": "code",
   "execution_count": 0,
   "metadata": {
    "colab": {
     "base_uri": "https://localhost:8080/",
     "height": 134
    },
    "colab_type": "code",
    "id": "UfdHWF0wQh4o",
    "outputId": "291fc388-3f47-490e-b7cb-ccf8818fe268"
   },
   "outputs": [
    {
     "data": {
      "text/html": [
       "<div>\n",
       "<style scoped>\n",
       "    .dataframe tbody tr th:only-of-type {\n",
       "        vertical-align: middle;\n",
       "    }\n",
       "\n",
       "    .dataframe tbody tr th {\n",
       "        vertical-align: top;\n",
       "    }\n",
       "\n",
       "    .dataframe thead th {\n",
       "        text-align: right;\n",
       "    }\n",
       "</style>\n",
       "<table border=\"1\" class=\"dataframe\">\n",
       "  <thead>\n",
       "    <tr style=\"text-align: right;\">\n",
       "      <th></th>\n",
       "      <th>Pclass</th>\n",
       "      <th>Name</th>\n",
       "      <th>Sex</th>\n",
       "      <th>Age</th>\n",
       "      <th>SibSp</th>\n",
       "      <th>Parch</th>\n",
       "      <th>Fare</th>\n",
       "      <th>Cabin</th>\n",
       "      <th>Embarked</th>\n",
       "    </tr>\n",
       "  </thead>\n",
       "  <tbody>\n",
       "    <tr>\n",
       "      <th>152</th>\n",
       "      <td>3</td>\n",
       "      <td>Storey, Mr. Thomas</td>\n",
       "      <td>1</td>\n",
       "      <td>60.5</td>\n",
       "      <td>0</td>\n",
       "      <td>0</td>\n",
       "      <td>NaN</td>\n",
       "      <td>NaN</td>\n",
       "      <td>S</td>\n",
       "    </tr>\n",
       "  </tbody>\n",
       "</table>\n",
       "</div>"
      ],
      "text/plain": [
       "     Pclass                Name  Sex   Age  SibSp  Parch  Fare Cabin Embarked\n",
       "152       3  Storey, Mr. Thomas    1  60.5      0      0   NaN   NaN        S"
      ]
     },
     "execution_count": 23,
     "metadata": {
      "tags": []
     },
     "output_type": "execute_result"
    }
   ],
   "source": [
    "# Fill NaN - Fare in testing set\n",
    "\n",
    "# Fare can be estimated by Pclass, Embarked, (Sex?)\n",
    "test[test['Fare'].isna()]"
   ]
  },
  {
   "cell_type": "code",
   "execution_count": 0,
   "metadata": {
    "colab": {
     "base_uri": "https://localhost:8080/",
     "height": 54
    },
    "colab_type": "code",
    "id": "5YmvSMc8RFgE",
    "outputId": "e8cdfafd-c22f-48f3-c9c7-9849df917086"
   },
   "outputs": [
    {
     "name": "stdout",
     "output_type": "stream",
     "text": [
      "Mean estimation fare = 13.1460\n"
     ]
    }
   ],
   "source": [
    "# Fill NaN\n",
    "\n",
    "train_filtered = train[(train['Pclass'] == 3) & (train['Embarked'] == 'S') & (train['Sex'] == 1)]['Fare']\n",
    "test_filtered = test[(test['Pclass'] == 3) & (test['Embarked'] == 'S') & (test['Sex'] == 1)]['Fare']\n",
    "missing_val = pd.concat([train_filtered, test_filtered]).mean()\n",
    "print('Mean estimation fare = {:.4f}'.format(missing_val))\n",
    "\n",
    "test['Fare'].fillna(missing_val, inplace=True)"
   ]
  },
  {
   "cell_type": "code",
   "execution_count": 0,
   "metadata": {
    "colab": {},
    "colab_type": "code",
    "collapsed": true,
    "id": "KJcWCUj3RKN1"
   },
   "outputs": [],
   "source": [
    "# At this moment, only Age (will fill it in by RF) and Cabin (will drop) have NaN"
   ]
  },
  {
   "cell_type": "markdown",
   "metadata": {
    "colab_type": "text",
    "id": "FDEYpDPS6N6s"
   },
   "source": [
    "# Name Title"
   ]
  },
  {
   "cell_type": "code",
   "execution_count": 0,
   "metadata": {
    "colab": {
     "base_uri": "https://localhost:8080/",
     "height": 496
    },
    "colab_type": "code",
    "id": "QJOmUnv7rctS",
    "outputId": "03b50efa-6020-4bca-81f6-69b9f90c9d94"
   },
   "outputs": [
    {
     "data": {
      "text/html": [
       "<div>\n",
       "<style scoped>\n",
       "    .dataframe tbody tr th:only-of-type {\n",
       "        vertical-align: middle;\n",
       "    }\n",
       "\n",
       "    .dataframe tbody tr th {\n",
       "        vertical-align: top;\n",
       "    }\n",
       "\n",
       "    .dataframe thead th {\n",
       "        text-align: right;\n",
       "    }\n",
       "</style>\n",
       "<table border=\"1\" class=\"dataframe\">\n",
       "  <thead>\n",
       "    <tr style=\"text-align: right;\">\n",
       "      <th></th>\n",
       "      <th>Survived</th>\n",
       "      <th>Pclass</th>\n",
       "      <th>Name</th>\n",
       "      <th>Sex</th>\n",
       "      <th>Age</th>\n",
       "      <th>SibSp</th>\n",
       "      <th>Parch</th>\n",
       "      <th>Fare</th>\n",
       "      <th>Cabin</th>\n",
       "      <th>Embarked</th>\n",
       "      <th>Title</th>\n",
       "    </tr>\n",
       "  </thead>\n",
       "  <tbody>\n",
       "    <tr>\n",
       "      <th>0</th>\n",
       "      <td>0</td>\n",
       "      <td>3</td>\n",
       "      <td>Braund, Mr. Owen Harris</td>\n",
       "      <td>1</td>\n",
       "      <td>22.0</td>\n",
       "      <td>1</td>\n",
       "      <td>0</td>\n",
       "      <td>7.2500</td>\n",
       "      <td>NaN</td>\n",
       "      <td>S</td>\n",
       "      <td>Mr</td>\n",
       "    </tr>\n",
       "    <tr>\n",
       "      <th>1</th>\n",
       "      <td>1</td>\n",
       "      <td>1</td>\n",
       "      <td>Cumings, Mrs. John Bradley (Florence Briggs Th...</td>\n",
       "      <td>0</td>\n",
       "      <td>38.0</td>\n",
       "      <td>1</td>\n",
       "      <td>0</td>\n",
       "      <td>71.2833</td>\n",
       "      <td>C85</td>\n",
       "      <td>C</td>\n",
       "      <td>Mrs</td>\n",
       "    </tr>\n",
       "    <tr>\n",
       "      <th>2</th>\n",
       "      <td>1</td>\n",
       "      <td>3</td>\n",
       "      <td>Heikkinen, Miss. Laina</td>\n",
       "      <td>0</td>\n",
       "      <td>26.0</td>\n",
       "      <td>0</td>\n",
       "      <td>0</td>\n",
       "      <td>7.9250</td>\n",
       "      <td>NaN</td>\n",
       "      <td>S</td>\n",
       "      <td>Miss</td>\n",
       "    </tr>\n",
       "    <tr>\n",
       "      <th>3</th>\n",
       "      <td>1</td>\n",
       "      <td>1</td>\n",
       "      <td>Futrelle, Mrs. Jacques Heath (Lily May Peel)</td>\n",
       "      <td>0</td>\n",
       "      <td>35.0</td>\n",
       "      <td>1</td>\n",
       "      <td>0</td>\n",
       "      <td>53.1000</td>\n",
       "      <td>C123</td>\n",
       "      <td>S</td>\n",
       "      <td>Mrs</td>\n",
       "    </tr>\n",
       "    <tr>\n",
       "      <th>4</th>\n",
       "      <td>0</td>\n",
       "      <td>3</td>\n",
       "      <td>Allen, Mr. William Henry</td>\n",
       "      <td>1</td>\n",
       "      <td>35.0</td>\n",
       "      <td>0</td>\n",
       "      <td>0</td>\n",
       "      <td>8.0500</td>\n",
       "      <td>NaN</td>\n",
       "      <td>S</td>\n",
       "      <td>Mr</td>\n",
       "    </tr>\n",
       "  </tbody>\n",
       "</table>\n",
       "</div>"
      ],
      "text/plain": [
       "   Survived  Pclass                                               Name  Sex  \\\n",
       "0         0       3                            Braund, Mr. Owen Harris    1   \n",
       "1         1       1  Cumings, Mrs. John Bradley (Florence Briggs Th...    0   \n",
       "2         1       3                             Heikkinen, Miss. Laina    0   \n",
       "3         1       1       Futrelle, Mrs. Jacques Heath (Lily May Peel)    0   \n",
       "4         0       3                           Allen, Mr. William Henry    1   \n",
       "\n",
       "    Age  SibSp  Parch     Fare Cabin Embarked  Title  \n",
       "0  22.0      1      0   7.2500   NaN        S     Mr  \n",
       "1  38.0      1      0  71.2833   C85        C    Mrs  \n",
       "2  26.0      0      0   7.9250   NaN        S   Miss  \n",
       "3  35.0      1      0  53.1000  C123        S    Mrs  \n",
       "4  35.0      0      0   8.0500   NaN        S     Mr  "
      ]
     },
     "execution_count": 26,
     "metadata": {
      "tags": []
     },
     "output_type": "execute_result"
    }
   ],
   "source": [
    "train['Title'], test['Title'] = [[x.split('.')[0] for x in s['Name']] for s in [train, test]]\n",
    "train['Title'], test['Title'] = [[x.split(',')[1] for x in s['Title']] for s in [train, test]]\n",
    "train.head()"
   ]
  },
  {
   "cell_type": "code",
   "execution_count": 0,
   "metadata": {
    "colab": {
     "base_uri": "https://localhost:8080/",
     "height": 360
    },
    "colab_type": "code",
    "id": "mxUIQ-fWsOUs",
    "outputId": "2e891b98-6b77-4e6f-b7d4-14e1e27cf22a"
   },
   "outputs": [
    {
     "data": {
      "text/plain": [
       "Title\n",
       " Mr              517\n",
       " Miss            182\n",
       " Mrs             125\n",
       " Master           40\n",
       " Dr                7\n",
       " Rev               6\n",
       " Col               2\n",
       " Mlle              2\n",
       " Major             2\n",
       " Jonkheer          1\n",
       " Don               1\n",
       " the Countess      1\n",
       " Lady              1\n",
       " Sir               1\n",
       " Mme               1\n",
       " Ms                1\n",
       " Capt              1\n",
       "Name: Name, dtype: int64"
      ]
     },
     "execution_count": 27,
     "metadata": {
      "tags": []
     },
     "output_type": "execute_result"
    }
   ],
   "source": [
    "train.groupby('Title').count()['Name'].sort_values(ascending=False)"
   ]
  },
  {
   "cell_type": "code",
   "execution_count": 0,
   "metadata": {
    "colab": {
     "base_uri": "https://localhost:8080/",
     "height": 224
    },
    "colab_type": "code",
    "id": "7dPfYHaXuIWH",
    "outputId": "14769721-7316-4b3e-fbdb-cc53f984e5d7"
   },
   "outputs": [
    {
     "data": {
      "text/plain": [
       "Title\n",
       " Mr        240\n",
       " Miss       78\n",
       " Mrs        72\n",
       " Master     21\n",
       " Rev         2\n",
       " Col         2\n",
       " Ms          1\n",
       " Dr          1\n",
       " Dona        1\n",
       "Name: Name, dtype: int64"
      ]
     },
     "execution_count": 28,
     "metadata": {
      "tags": []
     },
     "output_type": "execute_result"
    }
   ],
   "source": [
    "test.groupby('Title').count()['Name'].sort_values(ascending=False)"
   ]
  },
  {
   "cell_type": "code",
   "execution_count": 0,
   "metadata": {
    "colab": {
     "base_uri": "https://localhost:8080/",
     "height": 156
    },
    "colab_type": "code",
    "id": "mbgOiix2vOc2",
    "outputId": "878cb061-e137-41c8-fcae-ff7930ed30cf"
   },
   "outputs": [
    {
     "data": {
      "text/plain": [
       "Title\n",
       "Mr        517\n",
       "Miss      185\n",
       "Mrs       126\n",
       "Master     40\n",
       "Rare       23\n",
       "Name: Name, dtype: int64"
      ]
     },
     "execution_count": 29,
     "metadata": {
      "tags": []
     },
     "output_type": "execute_result"
    }
   ],
   "source": [
    "# Categorize titles\n",
    "\n",
    "title_dict = {' Mr': 'Mr',\n",
    "              ' Miss': 'Miss',\n",
    "              ' Mrs': 'Mrs',\n",
    "              ' Master': 'Master',\n",
    "              ' Dr': 'Rare',\n",
    "              ' Rev': 'Rare',\n",
    "              ' Mlle': 'Miss',\n",
    "              ' Major': 'Rare',\n",
    "              ' Col': 'Rare',\n",
    "              ' the Countess': 'Rare',\n",
    "              ' Sir': 'Rare',\n",
    "              ' Ms': 'Miss',\n",
    "              ' Mme': 'Mrs',\n",
    "              ' Lady': 'Rare',\n",
    "              ' Jonkheer': 'Rare',\n",
    "              ' Don': 'Rare',\n",
    "              ' Dona': 'Rare',\n",
    "              ' Capt': 'Rare'}\n",
    "train['Title'], test['Title'] = [s['Title'].replace(title_dict) for s in [train, test]]\n",
    "train.groupby('Title').count()['Name'].sort_values(ascending=False)"
   ]
  },
  {
   "cell_type": "code",
   "execution_count": 0,
   "metadata": {
    "colab": {
     "base_uri": "https://localhost:8080/",
     "height": 156
    },
    "colab_type": "code",
    "id": "Rm7TvVuqzlfg",
    "outputId": "0fc1a4b9-8286-4871-cb45-e361a03fe914"
   },
   "outputs": [
    {
     "data": {
      "text/plain": [
       "Title\n",
       "Mr        240\n",
       "Miss       79\n",
       "Mrs        72\n",
       "Master     21\n",
       "Rare        6\n",
       "Name: Name, dtype: int64"
      ]
     },
     "execution_count": 30,
     "metadata": {
      "tags": []
     },
     "output_type": "execute_result"
    }
   ],
   "source": [
    "test.groupby('Title').count()['Name'].sort_values(ascending=False)"
   ]
  },
  {
   "cell_type": "code",
   "execution_count": 0,
   "metadata": {
    "colab": {},
    "colab_type": "code",
    "collapsed": true,
    "id": "I0mykxvW0YVo"
   },
   "outputs": [],
   "source": [
    "# Drop Name\n",
    "\n",
    "try:\n",
    "  train = train.drop(columns='Name')\n",
    "  test = test.drop(columns='Name')\n",
    "except KeyError:\n",
    "  print('Re-run')"
   ]
  },
  {
   "cell_type": "markdown",
   "metadata": {
    "colab_type": "text",
    "id": "MPThDAf16cVw"
   },
   "source": [
    "# Cabin"
   ]
  },
  {
   "cell_type": "code",
   "execution_count": 0,
   "metadata": {
    "colab": {
     "base_uri": "https://localhost:8080/",
     "height": 379
    },
    "colab_type": "code",
    "id": "K9YXqb5L-fG_",
    "outputId": "7ac2c65a-4f09-4c5d-b453-ec6b5350149b"
   },
   "outputs": [
    {
     "data": {
      "text/html": [
       "<div>\n",
       "<style scoped>\n",
       "    .dataframe tbody tr th:only-of-type {\n",
       "        vertical-align: middle;\n",
       "    }\n",
       "\n",
       "    .dataframe tbody tr th {\n",
       "        vertical-align: top;\n",
       "    }\n",
       "\n",
       "    .dataframe thead th {\n",
       "        text-align: right;\n",
       "    }\n",
       "</style>\n",
       "<table border=\"1\" class=\"dataframe\">\n",
       "  <thead>\n",
       "    <tr style=\"text-align: right;\">\n",
       "      <th></th>\n",
       "      <th>Survived</th>\n",
       "      <th>Pclass</th>\n",
       "      <th>Sex</th>\n",
       "      <th>Age</th>\n",
       "      <th>SibSp</th>\n",
       "      <th>Parch</th>\n",
       "      <th>Fare</th>\n",
       "      <th>Embarked</th>\n",
       "      <th>Title</th>\n",
       "    </tr>\n",
       "    <tr>\n",
       "      <th>Cabin</th>\n",
       "      <th></th>\n",
       "      <th></th>\n",
       "      <th></th>\n",
       "      <th></th>\n",
       "      <th></th>\n",
       "      <th></th>\n",
       "      <th></th>\n",
       "      <th></th>\n",
       "      <th></th>\n",
       "    </tr>\n",
       "  </thead>\n",
       "  <tbody>\n",
       "    <tr>\n",
       "      <th>A</th>\n",
       "      <td>15</td>\n",
       "      <td>15</td>\n",
       "      <td>15</td>\n",
       "      <td>12</td>\n",
       "      <td>15</td>\n",
       "      <td>15</td>\n",
       "      <td>15</td>\n",
       "      <td>15</td>\n",
       "      <td>15</td>\n",
       "    </tr>\n",
       "    <tr>\n",
       "      <th>B</th>\n",
       "      <td>47</td>\n",
       "      <td>47</td>\n",
       "      <td>47</td>\n",
       "      <td>45</td>\n",
       "      <td>47</td>\n",
       "      <td>47</td>\n",
       "      <td>47</td>\n",
       "      <td>47</td>\n",
       "      <td>47</td>\n",
       "    </tr>\n",
       "    <tr>\n",
       "      <th>C</th>\n",
       "      <td>59</td>\n",
       "      <td>59</td>\n",
       "      <td>59</td>\n",
       "      <td>51</td>\n",
       "      <td>59</td>\n",
       "      <td>59</td>\n",
       "      <td>59</td>\n",
       "      <td>59</td>\n",
       "      <td>59</td>\n",
       "    </tr>\n",
       "    <tr>\n",
       "      <th>D</th>\n",
       "      <td>33</td>\n",
       "      <td>33</td>\n",
       "      <td>33</td>\n",
       "      <td>31</td>\n",
       "      <td>33</td>\n",
       "      <td>33</td>\n",
       "      <td>33</td>\n",
       "      <td>33</td>\n",
       "      <td>33</td>\n",
       "    </tr>\n",
       "    <tr>\n",
       "      <th>E</th>\n",
       "      <td>32</td>\n",
       "      <td>32</td>\n",
       "      <td>32</td>\n",
       "      <td>30</td>\n",
       "      <td>32</td>\n",
       "      <td>32</td>\n",
       "      <td>32</td>\n",
       "      <td>32</td>\n",
       "      <td>32</td>\n",
       "    </tr>\n",
       "    <tr>\n",
       "      <th>F</th>\n",
       "      <td>13</td>\n",
       "      <td>13</td>\n",
       "      <td>13</td>\n",
       "      <td>11</td>\n",
       "      <td>13</td>\n",
       "      <td>13</td>\n",
       "      <td>13</td>\n",
       "      <td>13</td>\n",
       "      <td>13</td>\n",
       "    </tr>\n",
       "    <tr>\n",
       "      <th>G</th>\n",
       "      <td>4</td>\n",
       "      <td>4</td>\n",
       "      <td>4</td>\n",
       "      <td>4</td>\n",
       "      <td>4</td>\n",
       "      <td>4</td>\n",
       "      <td>4</td>\n",
       "      <td>4</td>\n",
       "      <td>4</td>\n",
       "    </tr>\n",
       "    <tr>\n",
       "      <th>T</th>\n",
       "      <td>1</td>\n",
       "      <td>1</td>\n",
       "      <td>1</td>\n",
       "      <td>1</td>\n",
       "      <td>1</td>\n",
       "      <td>1</td>\n",
       "      <td>1</td>\n",
       "      <td>1</td>\n",
       "      <td>1</td>\n",
       "    </tr>\n",
       "    <tr>\n",
       "      <th>n</th>\n",
       "      <td>687</td>\n",
       "      <td>687</td>\n",
       "      <td>687</td>\n",
       "      <td>529</td>\n",
       "      <td>687</td>\n",
       "      <td>687</td>\n",
       "      <td>687</td>\n",
       "      <td>687</td>\n",
       "      <td>687</td>\n",
       "    </tr>\n",
       "  </tbody>\n",
       "</table>\n",
       "</div>"
      ],
      "text/plain": [
       "       Survived  Pclass  Sex  Age  SibSp  Parch  Fare  Embarked  Title\n",
       "Cabin                                                                 \n",
       "A            15      15   15   12     15     15    15        15     15\n",
       "B            47      47   47   45     47     47    47        47     47\n",
       "C            59      59   59   51     59     59    59        59     59\n",
       "D            33      33   33   31     33     33    33        33     33\n",
       "E            32      32   32   30     32     32    32        32     32\n",
       "F            13      13   13   11     13     13    13        13     13\n",
       "G             4       4    4    4      4      4     4         4      4\n",
       "T             1       1    1    1      1      1     1         1      1\n",
       "n           687     687  687  529    687    687   687       687    687"
      ]
     },
     "execution_count": 32,
     "metadata": {
      "tags": []
     },
     "output_type": "execute_result"
    }
   ],
   "source": [
    "train['Cabin'], test['Cabin'] = [s['Cabin'].astype(str).str[0] for s in [train, test]]\n",
    "train.groupby('Cabin').count()"
   ]
  },
  {
   "cell_type": "code",
   "execution_count": 0,
   "metadata": {
    "colab": {
     "base_uri": "https://localhost:8080/",
     "height": 348
    },
    "colab_type": "code",
    "id": "zjqY2nrVAI0t",
    "outputId": "9d4cb5c3-05e0-4a91-fbf0-078140506969"
   },
   "outputs": [
    {
     "data": {
      "text/html": [
       "<div>\n",
       "<style scoped>\n",
       "    .dataframe tbody tr th:only-of-type {\n",
       "        vertical-align: middle;\n",
       "    }\n",
       "\n",
       "    .dataframe tbody tr th {\n",
       "        vertical-align: top;\n",
       "    }\n",
       "\n",
       "    .dataframe thead th {\n",
       "        text-align: right;\n",
       "    }\n",
       "</style>\n",
       "<table border=\"1\" class=\"dataframe\">\n",
       "  <thead>\n",
       "    <tr style=\"text-align: right;\">\n",
       "      <th></th>\n",
       "      <th>Pclass</th>\n",
       "      <th>Sex</th>\n",
       "      <th>Age</th>\n",
       "      <th>SibSp</th>\n",
       "      <th>Parch</th>\n",
       "      <th>Fare</th>\n",
       "      <th>Embarked</th>\n",
       "      <th>Title</th>\n",
       "    </tr>\n",
       "    <tr>\n",
       "      <th>Cabin</th>\n",
       "      <th></th>\n",
       "      <th></th>\n",
       "      <th></th>\n",
       "      <th></th>\n",
       "      <th></th>\n",
       "      <th></th>\n",
       "      <th></th>\n",
       "      <th></th>\n",
       "    </tr>\n",
       "  </thead>\n",
       "  <tbody>\n",
       "    <tr>\n",
       "      <th>A</th>\n",
       "      <td>7</td>\n",
       "      <td>7</td>\n",
       "      <td>7</td>\n",
       "      <td>7</td>\n",
       "      <td>7</td>\n",
       "      <td>7</td>\n",
       "      <td>7</td>\n",
       "      <td>7</td>\n",
       "    </tr>\n",
       "    <tr>\n",
       "      <th>B</th>\n",
       "      <td>18</td>\n",
       "      <td>18</td>\n",
       "      <td>18</td>\n",
       "      <td>18</td>\n",
       "      <td>18</td>\n",
       "      <td>18</td>\n",
       "      <td>18</td>\n",
       "      <td>18</td>\n",
       "    </tr>\n",
       "    <tr>\n",
       "      <th>C</th>\n",
       "      <td>35</td>\n",
       "      <td>35</td>\n",
       "      <td>35</td>\n",
       "      <td>35</td>\n",
       "      <td>35</td>\n",
       "      <td>35</td>\n",
       "      <td>35</td>\n",
       "      <td>35</td>\n",
       "    </tr>\n",
       "    <tr>\n",
       "      <th>D</th>\n",
       "      <td>13</td>\n",
       "      <td>13</td>\n",
       "      <td>11</td>\n",
       "      <td>13</td>\n",
       "      <td>13</td>\n",
       "      <td>13</td>\n",
       "      <td>13</td>\n",
       "      <td>13</td>\n",
       "    </tr>\n",
       "    <tr>\n",
       "      <th>E</th>\n",
       "      <td>9</td>\n",
       "      <td>9</td>\n",
       "      <td>8</td>\n",
       "      <td>9</td>\n",
       "      <td>9</td>\n",
       "      <td>9</td>\n",
       "      <td>9</td>\n",
       "      <td>9</td>\n",
       "    </tr>\n",
       "    <tr>\n",
       "      <th>F</th>\n",
       "      <td>8</td>\n",
       "      <td>8</td>\n",
       "      <td>7</td>\n",
       "      <td>8</td>\n",
       "      <td>8</td>\n",
       "      <td>8</td>\n",
       "      <td>8</td>\n",
       "      <td>8</td>\n",
       "    </tr>\n",
       "    <tr>\n",
       "      <th>G</th>\n",
       "      <td>1</td>\n",
       "      <td>1</td>\n",
       "      <td>1</td>\n",
       "      <td>1</td>\n",
       "      <td>1</td>\n",
       "      <td>1</td>\n",
       "      <td>1</td>\n",
       "      <td>1</td>\n",
       "    </tr>\n",
       "    <tr>\n",
       "      <th>n</th>\n",
       "      <td>327</td>\n",
       "      <td>327</td>\n",
       "      <td>245</td>\n",
       "      <td>327</td>\n",
       "      <td>327</td>\n",
       "      <td>327</td>\n",
       "      <td>327</td>\n",
       "      <td>327</td>\n",
       "    </tr>\n",
       "  </tbody>\n",
       "</table>\n",
       "</div>"
      ],
      "text/plain": [
       "       Pclass  Sex  Age  SibSp  Parch  Fare  Embarked  Title\n",
       "Cabin                                                       \n",
       "A           7    7    7      7      7     7         7      7\n",
       "B          18   18   18     18     18    18        18     18\n",
       "C          35   35   35     35     35    35        35     35\n",
       "D          13   13   11     13     13    13        13     13\n",
       "E           9    9    8      9      9     9         9      9\n",
       "F           8    8    7      8      8     8         8      8\n",
       "G           1    1    1      1      1     1         1      1\n",
       "n         327  327  245    327    327   327       327    327"
      ]
     },
     "execution_count": 33,
     "metadata": {
      "tags": []
     },
     "output_type": "execute_result"
    }
   ],
   "source": [
    "test.groupby('Cabin').count()"
   ]
  },
  {
   "cell_type": "code",
   "execution_count": 0,
   "metadata": {
    "colab": {},
    "colab_type": "code",
    "collapsed": true,
    "id": "SInT9wIx-Oal"
   },
   "outputs": [],
   "source": [
    "# Drop Cabin T data, as it is useless for prediction\n",
    "\n",
    "train = train[train['Cabin'] != 'T']\n",
    "\n",
    "# Set up a new binary class feature\n",
    "\n",
    "train['Has Cabin'] = [0 if j == 'n'else 1 for j in train['Cabin']]\n",
    "test['Has Cabin'] = [0 if j == 'n'else 1 for j in test['Cabin']]\n"
   ]
  },
  {
   "cell_type": "code",
   "execution_count": 0,
   "metadata": {
    "colab": {},
    "colab_type": "code",
    "collapsed": true,
    "id": "j56KBF79TbPM"
   },
   "outputs": [],
   "source": [
    "# Ignore Cabin for now\n",
    "\n",
    "try:\n",
    "  train_cabin, test_cabin = train['Cabin'], test['Cabin']\n",
    "  train = train.drop(columns='Cabin')\n",
    "  test = test.drop(columns='Cabin')\n",
    "except KeyError:\n",
    "  print('Re-run')"
   ]
  },
  {
   "cell_type": "markdown",
   "metadata": {
    "colab_type": "text",
    "id": "DgX4LE1K6eqy"
   },
   "source": [
    "# One-hot-encode"
   ]
  },
  {
   "cell_type": "code",
   "execution_count": 0,
   "metadata": {
    "colab": {
     "base_uri": "https://localhost:8080/",
     "height": 241
    },
    "colab_type": "code",
    "id": "Gwd-BB02V6ib",
    "outputId": "7fbdfeb4-9287-4035-fbca-0ea2ecf12661"
   },
   "outputs": [
    {
     "data": {
      "text/html": [
       "<div>\n",
       "<style scoped>\n",
       "    .dataframe tbody tr th:only-of-type {\n",
       "        vertical-align: middle;\n",
       "    }\n",
       "\n",
       "    .dataframe tbody tr th {\n",
       "        vertical-align: top;\n",
       "    }\n",
       "\n",
       "    .dataframe thead th {\n",
       "        text-align: right;\n",
       "    }\n",
       "</style>\n",
       "<table border=\"1\" class=\"dataframe\">\n",
       "  <thead>\n",
       "    <tr style=\"text-align: right;\">\n",
       "      <th></th>\n",
       "      <th>Survived</th>\n",
       "      <th>Sex</th>\n",
       "      <th>Age</th>\n",
       "      <th>SibSp</th>\n",
       "      <th>Parch</th>\n",
       "      <th>Fare</th>\n",
       "      <th>Has Cabin</th>\n",
       "      <th>Pclass_2</th>\n",
       "      <th>Pclass_3</th>\n",
       "      <th>Embarked_Q</th>\n",
       "      <th>Embarked_S</th>\n",
       "      <th>Title_Miss</th>\n",
       "      <th>Title_Mr</th>\n",
       "      <th>Title_Mrs</th>\n",
       "      <th>Title_Rare</th>\n",
       "    </tr>\n",
       "  </thead>\n",
       "  <tbody>\n",
       "    <tr>\n",
       "      <th>0</th>\n",
       "      <td>0</td>\n",
       "      <td>1</td>\n",
       "      <td>22.0</td>\n",
       "      <td>1</td>\n",
       "      <td>0</td>\n",
       "      <td>7.2500</td>\n",
       "      <td>0</td>\n",
       "      <td>0</td>\n",
       "      <td>1</td>\n",
       "      <td>0</td>\n",
       "      <td>1</td>\n",
       "      <td>0</td>\n",
       "      <td>1</td>\n",
       "      <td>0</td>\n",
       "      <td>0</td>\n",
       "    </tr>\n",
       "    <tr>\n",
       "      <th>1</th>\n",
       "      <td>1</td>\n",
       "      <td>0</td>\n",
       "      <td>38.0</td>\n",
       "      <td>1</td>\n",
       "      <td>0</td>\n",
       "      <td>71.2833</td>\n",
       "      <td>1</td>\n",
       "      <td>0</td>\n",
       "      <td>0</td>\n",
       "      <td>0</td>\n",
       "      <td>0</td>\n",
       "      <td>0</td>\n",
       "      <td>0</td>\n",
       "      <td>1</td>\n",
       "      <td>0</td>\n",
       "    </tr>\n",
       "    <tr>\n",
       "      <th>2</th>\n",
       "      <td>1</td>\n",
       "      <td>0</td>\n",
       "      <td>26.0</td>\n",
       "      <td>0</td>\n",
       "      <td>0</td>\n",
       "      <td>7.9250</td>\n",
       "      <td>0</td>\n",
       "      <td>0</td>\n",
       "      <td>1</td>\n",
       "      <td>0</td>\n",
       "      <td>1</td>\n",
       "      <td>1</td>\n",
       "      <td>0</td>\n",
       "      <td>0</td>\n",
       "      <td>0</td>\n",
       "    </tr>\n",
       "    <tr>\n",
       "      <th>3</th>\n",
       "      <td>1</td>\n",
       "      <td>0</td>\n",
       "      <td>35.0</td>\n",
       "      <td>1</td>\n",
       "      <td>0</td>\n",
       "      <td>53.1000</td>\n",
       "      <td>1</td>\n",
       "      <td>0</td>\n",
       "      <td>0</td>\n",
       "      <td>0</td>\n",
       "      <td>1</td>\n",
       "      <td>0</td>\n",
       "      <td>0</td>\n",
       "      <td>1</td>\n",
       "      <td>0</td>\n",
       "    </tr>\n",
       "    <tr>\n",
       "      <th>4</th>\n",
       "      <td>0</td>\n",
       "      <td>1</td>\n",
       "      <td>35.0</td>\n",
       "      <td>0</td>\n",
       "      <td>0</td>\n",
       "      <td>8.0500</td>\n",
       "      <td>0</td>\n",
       "      <td>0</td>\n",
       "      <td>1</td>\n",
       "      <td>0</td>\n",
       "      <td>1</td>\n",
       "      <td>0</td>\n",
       "      <td>1</td>\n",
       "      <td>0</td>\n",
       "      <td>0</td>\n",
       "    </tr>\n",
       "  </tbody>\n",
       "</table>\n",
       "</div>"
      ],
      "text/plain": [
       "   Survived  Sex   Age  SibSp  Parch     Fare  Has Cabin  Pclass_2  Pclass_3  \\\n",
       "0         0    1  22.0      1      0   7.2500          0         0         1   \n",
       "1         1    0  38.0      1      0  71.2833          1         0         0   \n",
       "2         1    0  26.0      0      0   7.9250          0         0         1   \n",
       "3         1    0  35.0      1      0  53.1000          1         0         0   \n",
       "4         0    1  35.0      0      0   8.0500          0         0         1   \n",
       "\n",
       "   Embarked_Q  Embarked_S  Title_Miss  Title_Mr  Title_Mrs  Title_Rare  \n",
       "0           0           1           0         1          0           0  \n",
       "1           0           0           0         0          1           0  \n",
       "2           0           1           1         0          0           0  \n",
       "3           0           1           0         0          1           0  \n",
       "4           0           1           0         1          0           0  "
      ]
     },
     "execution_count": 36,
     "metadata": {
      "tags": []
     },
     "output_type": "execute_result"
    }
   ],
   "source": [
    "# One hot encoding\n",
    "\n",
    "try:\n",
    "  train = pd.get_dummies(train, \n",
    "                         columns=['Pclass','Embarked','Title'], \n",
    "                         drop_first=True)\n",
    "  test = pd.get_dummies(test, \n",
    "                        columns=['Pclass','Embarked','Title'], \n",
    "                        drop_first=True)\n",
    "except ValueError:\n",
    "  print('Re-run')\n",
    "\n",
    "# Seems like title is not that useful after all  \n",
    "''' \n",
    "try:\n",
    "  train = train.drop(columns='Title')\n",
    "  test = test.drop(columns='Title')\n",
    "except KeyError:\n",
    "  print('Re-run')  \n",
    "'''\n",
    "train.head()"
   ]
  },
  {
   "cell_type": "markdown",
   "metadata": {
    "colab_type": "text",
    "id": "-eid_WXl6lrb"
   },
   "source": [
    "# Age"
   ]
  },
  {
   "cell_type": "code",
   "execution_count": 0,
   "metadata": {
    "colab": {},
    "colab_type": "code",
    "collapsed": true,
    "id": "qjQ__khAeFmB"
   },
   "outputs": [],
   "source": [
    "# Save row indexes\n",
    "\n",
    "# Get indexes of rows with NaN ages\n",
    "nan_idx = pd.concat([train.drop(columns='Survived'),test])['Age']\n",
    "nan_idx = nan_idx[nan_idx.isna()].reset_index().drop(columns='Age')\n",
    "\n",
    "# Find training-testing set divider\n",
    "roll = nan_idx['index'].rolling(window=2).apply(lambda x: x[1] - x[0])\n",
    "divider = roll.idxmin()"
   ]
  },
  {
   "cell_type": "code",
   "execution_count": 0,
   "metadata": {
    "colab": {},
    "colab_type": "code",
    "collapsed": true,
    "id": "ZetrLvbxVVBG"
   },
   "outputs": [],
   "source": [
    "# Fill NaN in Age - use RF regressor\n",
    "\n",
    "from sklearn.ensemble import RandomForestRegressor\n",
    "\n",
    "temp = pd.concat([train.drop(columns='Survived'),test]).reset_index(drop=True)\n",
    " \n",
    "temp_train_x = temp[temp['Age'].notna()].drop(columns='Age')\n",
    "temp_train_y = temp[temp['Age'].notna()]['Age']\n",
    "temp_test_x = temp[temp['Age'].isna()].drop(columns='Age')\n",
    "  \n",
    "rfr = RandomForestRegressor(n_estimators=1500, \n",
    "                            n_jobs=-1)\n",
    "rfr.fit(temp_train_x, temp_train_y)\n",
    "temp_test_est = rfr.predict(temp_test_x)"
   ]
  },
  {
   "cell_type": "code",
   "execution_count": 0,
   "metadata": {
    "colab": {},
    "colab_type": "code",
    "collapsed": true,
    "id": "flZqF9Olhba_"
   },
   "outputs": [],
   "source": [
    "# Fill the predicted value in\n",
    "\n",
    "temp_test = temp_test_x\n",
    "temp_test['Age'] = temp_test_est\n",
    "\n",
    "train['Age'] = train['Age'].fillna(temp_test.iloc[:divider].set_index(nan_idx.iloc[:divider]['index'])['Age'])\n",
    "test['Age'] = test['Age'].fillna(temp_test.iloc[divider:].set_index(nan_idx.iloc[divider:]['index'])['Age'])"
   ]
  },
  {
   "cell_type": "markdown",
   "metadata": {
    "colab_type": "text",
    "id": "GiDTV5sK6sXQ"
   },
   "source": [
    "# Family Size"
   ]
  },
  {
   "cell_type": "code",
   "execution_count": 0,
   "metadata": {
    "colab": {
     "base_uri": "https://localhost:8080/",
     "height": 413
    },
    "colab_type": "code",
    "id": "qkejGwHHM6FV",
    "outputId": "381c89b9-6524-4308-faff-59df4e0efbab"
   },
   "outputs": [
    {
     "data": {
      "text/html": [
       "<div>\n",
       "<style scoped>\n",
       "    .dataframe tbody tr th:only-of-type {\n",
       "        vertical-align: middle;\n",
       "    }\n",
       "\n",
       "    .dataframe tbody tr th {\n",
       "        vertical-align: top;\n",
       "    }\n",
       "\n",
       "    .dataframe thead th {\n",
       "        text-align: right;\n",
       "    }\n",
       "</style>\n",
       "<table border=\"1\" class=\"dataframe\">\n",
       "  <thead>\n",
       "    <tr style=\"text-align: right;\">\n",
       "      <th></th>\n",
       "      <th>Survived</th>\n",
       "      <th>Sex</th>\n",
       "      <th>Age</th>\n",
       "      <th>SibSp</th>\n",
       "      <th>Parch</th>\n",
       "      <th>Fare</th>\n",
       "      <th>Has Cabin</th>\n",
       "      <th>Pclass_2</th>\n",
       "      <th>Pclass_3</th>\n",
       "      <th>Embarked_Q</th>\n",
       "      <th>Embarked_S</th>\n",
       "      <th>Title_Miss</th>\n",
       "      <th>Title_Mr</th>\n",
       "      <th>Title_Mrs</th>\n",
       "      <th>Title_Rare</th>\n",
       "    </tr>\n",
       "    <tr>\n",
       "      <th>Family Size</th>\n",
       "      <th></th>\n",
       "      <th></th>\n",
       "      <th></th>\n",
       "      <th></th>\n",
       "      <th></th>\n",
       "      <th></th>\n",
       "      <th></th>\n",
       "      <th></th>\n",
       "      <th></th>\n",
       "      <th></th>\n",
       "      <th></th>\n",
       "      <th></th>\n",
       "      <th></th>\n",
       "      <th></th>\n",
       "      <th></th>\n",
       "    </tr>\n",
       "  </thead>\n",
       "  <tbody>\n",
       "    <tr>\n",
       "      <th>1</th>\n",
       "      <td>0.304104</td>\n",
       "      <td>0.764925</td>\n",
       "      <td>32.073297</td>\n",
       "      <td>0.000000</td>\n",
       "      <td>0.000000</td>\n",
       "      <td>21.216089</td>\n",
       "      <td>0.173507</td>\n",
       "      <td>0.194030</td>\n",
       "      <td>0.604478</td>\n",
       "      <td>0.106343</td>\n",
       "      <td>0.731343</td>\n",
       "      <td>0.192164</td>\n",
       "      <td>0.738806</td>\n",
       "      <td>0.039179</td>\n",
       "      <td>0.029851</td>\n",
       "    </tr>\n",
       "    <tr>\n",
       "      <th>2</th>\n",
       "      <td>0.552795</td>\n",
       "      <td>0.459627</td>\n",
       "      <td>31.070603</td>\n",
       "      <td>0.763975</td>\n",
       "      <td>0.236025</td>\n",
       "      <td>49.894129</td>\n",
       "      <td>0.409938</td>\n",
       "      <td>0.211180</td>\n",
       "      <td>0.354037</td>\n",
       "      <td>0.055901</td>\n",
       "      <td>0.627329</td>\n",
       "      <td>0.167702</td>\n",
       "      <td>0.422360</td>\n",
       "      <td>0.366460</td>\n",
       "      <td>0.024845</td>\n",
       "    </tr>\n",
       "    <tr>\n",
       "      <th>3</th>\n",
       "      <td>0.578431</td>\n",
       "      <td>0.519608</td>\n",
       "      <td>25.340367</td>\n",
       "      <td>0.872549</td>\n",
       "      <td>1.127451</td>\n",
       "      <td>39.692482</td>\n",
       "      <td>0.284314</td>\n",
       "      <td>0.303922</td>\n",
       "      <td>0.460784</td>\n",
       "      <td>0.058824</td>\n",
       "      <td>0.715686</td>\n",
       "      <td>0.215686</td>\n",
       "      <td>0.343137</td>\n",
       "      <td>0.264706</td>\n",
       "      <td>0.029412</td>\n",
       "    </tr>\n",
       "    <tr>\n",
       "      <th>4</th>\n",
       "      <td>0.724138</td>\n",
       "      <td>0.344828</td>\n",
       "      <td>18.230447</td>\n",
       "      <td>1.344828</td>\n",
       "      <td>1.655172</td>\n",
       "      <td>54.864510</td>\n",
       "      <td>0.310345</td>\n",
       "      <td>0.448276</td>\n",
       "      <td>0.310345</td>\n",
       "      <td>0.000000</td>\n",
       "      <td>0.758621</td>\n",
       "      <td>0.344828</td>\n",
       "      <td>0.206897</td>\n",
       "      <td>0.310345</td>\n",
       "      <td>0.000000</td>\n",
       "    </tr>\n",
       "    <tr>\n",
       "      <th>5</th>\n",
       "      <td>0.200000</td>\n",
       "      <td>0.200000</td>\n",
       "      <td>16.816087</td>\n",
       "      <td>2.133333</td>\n",
       "      <td>1.866667</td>\n",
       "      <td>58.094453</td>\n",
       "      <td>0.133333</td>\n",
       "      <td>0.066667</td>\n",
       "      <td>0.800000</td>\n",
       "      <td>0.000000</td>\n",
       "      <td>0.866667</td>\n",
       "      <td>0.600000</td>\n",
       "      <td>0.066667</td>\n",
       "      <td>0.200000</td>\n",
       "      <td>0.000000</td>\n",
       "    </tr>\n",
       "    <tr>\n",
       "      <th>6</th>\n",
       "      <td>0.136364</td>\n",
       "      <td>0.636364</td>\n",
       "      <td>18.409091</td>\n",
       "      <td>2.818182</td>\n",
       "      <td>2.181818</td>\n",
       "      <td>73.722727</td>\n",
       "      <td>0.181818</td>\n",
       "      <td>0.045455</td>\n",
       "      <td>0.772727</td>\n",
       "      <td>0.227273</td>\n",
       "      <td>0.772727</td>\n",
       "      <td>0.181818</td>\n",
       "      <td>0.227273</td>\n",
       "      <td>0.181818</td>\n",
       "      <td>0.000000</td>\n",
       "    </tr>\n",
       "    <tr>\n",
       "      <th>7</th>\n",
       "      <td>0.333333</td>\n",
       "      <td>0.333333</td>\n",
       "      <td>15.166667</td>\n",
       "      <td>3.250000</td>\n",
       "      <td>2.750000</td>\n",
       "      <td>29.366667</td>\n",
       "      <td>0.000000</td>\n",
       "      <td>0.000000</td>\n",
       "      <td>1.000000</td>\n",
       "      <td>0.000000</td>\n",
       "      <td>1.000000</td>\n",
       "      <td>0.500000</td>\n",
       "      <td>0.083333</td>\n",
       "      <td>0.166667</td>\n",
       "      <td>0.000000</td>\n",
       "    </tr>\n",
       "    <tr>\n",
       "      <th>8</th>\n",
       "      <td>0.000000</td>\n",
       "      <td>0.666667</td>\n",
       "      <td>15.666667</td>\n",
       "      <td>4.333333</td>\n",
       "      <td>2.666667</td>\n",
       "      <td>46.900000</td>\n",
       "      <td>0.000000</td>\n",
       "      <td>0.000000</td>\n",
       "      <td>1.000000</td>\n",
       "      <td>0.000000</td>\n",
       "      <td>1.000000</td>\n",
       "      <td>0.166667</td>\n",
       "      <td>0.166667</td>\n",
       "      <td>0.166667</td>\n",
       "      <td>0.000000</td>\n",
       "    </tr>\n",
       "    <tr>\n",
       "      <th>11</th>\n",
       "      <td>0.000000</td>\n",
       "      <td>0.571429</td>\n",
       "      <td>14.761222</td>\n",
       "      <td>8.000000</td>\n",
       "      <td>2.000000</td>\n",
       "      <td>69.550000</td>\n",
       "      <td>0.000000</td>\n",
       "      <td>0.000000</td>\n",
       "      <td>1.000000</td>\n",
       "      <td>0.000000</td>\n",
       "      <td>1.000000</td>\n",
       "      <td>0.428571</td>\n",
       "      <td>0.428571</td>\n",
       "      <td>0.000000</td>\n",
       "      <td>0.000000</td>\n",
       "    </tr>\n",
       "  </tbody>\n",
       "</table>\n",
       "</div>"
      ],
      "text/plain": [
       "             Survived       Sex        Age     SibSp     Parch       Fare  \\\n",
       "Family Size                                                                 \n",
       "1            0.304104  0.764925  32.073297  0.000000  0.000000  21.216089   \n",
       "2            0.552795  0.459627  31.070603  0.763975  0.236025  49.894129   \n",
       "3            0.578431  0.519608  25.340367  0.872549  1.127451  39.692482   \n",
       "4            0.724138  0.344828  18.230447  1.344828  1.655172  54.864510   \n",
       "5            0.200000  0.200000  16.816087  2.133333  1.866667  58.094453   \n",
       "6            0.136364  0.636364  18.409091  2.818182  2.181818  73.722727   \n",
       "7            0.333333  0.333333  15.166667  3.250000  2.750000  29.366667   \n",
       "8            0.000000  0.666667  15.666667  4.333333  2.666667  46.900000   \n",
       "11           0.000000  0.571429  14.761222  8.000000  2.000000  69.550000   \n",
       "\n",
       "             Has Cabin  Pclass_2  Pclass_3  Embarked_Q  Embarked_S  \\\n",
       "Family Size                                                          \n",
       "1             0.173507  0.194030  0.604478    0.106343    0.731343   \n",
       "2             0.409938  0.211180  0.354037    0.055901    0.627329   \n",
       "3             0.284314  0.303922  0.460784    0.058824    0.715686   \n",
       "4             0.310345  0.448276  0.310345    0.000000    0.758621   \n",
       "5             0.133333  0.066667  0.800000    0.000000    0.866667   \n",
       "6             0.181818  0.045455  0.772727    0.227273    0.772727   \n",
       "7             0.000000  0.000000  1.000000    0.000000    1.000000   \n",
       "8             0.000000  0.000000  1.000000    0.000000    1.000000   \n",
       "11            0.000000  0.000000  1.000000    0.000000    1.000000   \n",
       "\n",
       "             Title_Miss  Title_Mr  Title_Mrs  Title_Rare  \n",
       "Family Size                                               \n",
       "1              0.192164  0.738806   0.039179    0.029851  \n",
       "2              0.167702  0.422360   0.366460    0.024845  \n",
       "3              0.215686  0.343137   0.264706    0.029412  \n",
       "4              0.344828  0.206897   0.310345    0.000000  \n",
       "5              0.600000  0.066667   0.200000    0.000000  \n",
       "6              0.181818  0.227273   0.181818    0.000000  \n",
       "7              0.500000  0.083333   0.166667    0.000000  \n",
       "8              0.166667  0.166667   0.166667    0.000000  \n",
       "11             0.428571  0.428571   0.000000    0.000000  "
      ]
     },
     "execution_count": 40,
     "metadata": {
      "tags": []
     },
     "output_type": "execute_result"
    }
   ],
   "source": [
    "# Add family size feature\n",
    "\n",
    "train['Family Size'] = train['SibSp'] + train['Parch'] + 1\n",
    "test['Family Size'] = test['SibSp'] + test['Parch'] + 1\n",
    "\n",
    "train.groupby('Family Size').mean()"
   ]
  },
  {
   "cell_type": "code",
   "execution_count": 0,
   "metadata": {
    "colab": {},
    "colab_type": "code",
    "collapsed": true,
    "id": "BO5yJASS7Jg2"
   },
   "outputs": [],
   "source": [
    "# Add is alone feature\n",
    "\n",
    "train['Alone'] = [1 if j==1 else 0 for j in train['Family Size']]\n",
    "test['Alone'] = [1 if j==1 else 0 for j in test['Family Size']]"
   ]
  },
  {
   "cell_type": "code",
   "execution_count": 0,
   "metadata": {
    "colab": {},
    "colab_type": "code",
    "collapsed": true,
    "id": "GKC1t1dsOhco"
   },
   "outputs": [],
   "source": [
    "# It was suggested that Fare might be for the whole family, not per person\n",
    "\n",
    "train['Fare'] = train['Fare'] / train['Family Size']\n",
    "test['Fare'] = test['Fare'] / test['Family Size']"
   ]
  },
  {
   "cell_type": "code",
   "execution_count": 0,
   "metadata": {
    "colab": {
     "base_uri": "https://localhost:8080/",
     "height": 538
    },
    "colab_type": "code",
    "id": "IHrsRUm6OsQc",
    "outputId": "192382bc-a868-4a97-8846-d0a5010df345"
   },
   "outputs": [
    {
     "data": {
      "image/png": "[encoded data removed]",
      "text/plain": [
       "<Figure size 1152x576 with 1 Axes>"
      ]
     },
     "metadata": {
      "tags": []
     },
     "output_type": "display_data"
    }
   ],
   "source": [
    "# Visualize Fare per head\n",
    "\n",
    "fig = plt.figure(figsize=(16,8))\n",
    "\n",
    "ax = sns.kdeplot(train[train['Survived'] == 0]['Fare'] , \n",
    "                 color = 'gray',\n",
    "                 shade = True,\n",
    "                 label='Not Survived')\n",
    "\n",
    "ax = sns.kdeplot(train[train['Survived'] == 1]['Fare'] , \n",
    "                 color = 'green',\n",
    "                 shade = True,\n",
    "                 label='Survived')\n",
    "\n",
    "ax.set_title('Fare Distribution - Survived or not', fontsize=15)\n",
    "ax.set_xlabel('Fare', fontsize = 15)\n",
    "ax.set_ylabel('Frequency of Passenger Survived', fontsize =15)\n",
    "plt.show()"
   ]
  },
  {
   "cell_type": "markdown",
   "metadata": {
    "colab_type": "text",
    "id": "-XA67C7Hffdw"
   },
   "source": [
    "# Train-test Split"
   ]
  },
  {
   "cell_type": "code",
   "execution_count": 0,
   "metadata": {
    "colab": {},
    "colab_type": "code",
    "collapsed": true,
    "id": "jnNrSwU0nuJm"
   },
   "outputs": [],
   "source": [
    "# Train-test split\n",
    "\n",
    "X = train.drop(columns=['Survived'])\n",
    "Y = train['Survived']\n",
    "\n",
    "from sklearn.model_selection import train_test_split\n",
    "train_x, test_x, train_y, test_y = train_test_split(X,Y,\n",
    "                                                    test_size = .3, \n",
    "                                                    random_state=42)"
   ]
  },
  {
   "cell_type": "code",
   "execution_count": 0,
   "metadata": {
    "colab": {
     "base_uri": "https://localhost:8080/",
     "height": 173
    },
    "colab_type": "code",
    "id": "70zshbognu_k",
    "outputId": "3388b7cc-1176-45f4-c460-38fb971a6c6b"
   },
   "outputs": [
    {
     "name": "stderr",
     "output_type": "stream",
     "text": [
      "/usr/local/lib/python3.6/dist-packages/sklearn/preprocessing/data.py:625: DataConversionWarning: Data with input dtype uint8, int64, float64 were all converted to float64 by StandardScaler.\n",
      "  return self.partial_fit(X, y)\n",
      "/usr/local/lib/python3.6/dist-packages/ipykernel_launcher.py:6: DataConversionWarning: Data with input dtype uint8, int64, float64 were all converted to float64 by StandardScaler.\n",
      "  \n",
      "/usr/local/lib/python3.6/dist-packages/ipykernel_launcher.py:6: DataConversionWarning: Data with input dtype uint8, int64, float64 were all converted to float64 by StandardScaler.\n",
      "  \n",
      "/usr/local/lib/python3.6/dist-packages/ipykernel_launcher.py:6: DataConversionWarning: Data with input dtype uint8, int64, float64 were all converted to float64 by StandardScaler.\n",
      "  \n"
     ]
    }
   ],
   "source": [
    "# Standardization\n",
    "\n",
    "from sklearn.preprocessing import StandardScaler\n",
    "\n",
    "scaler = StandardScaler().fit(train_x)\n",
    "\n",
    "train_x, test_x, test = [scaler.transform(s) for s in [train_x, test_x, test]]"
   ]
  },
  {
   "cell_type": "code",
   "execution_count": 0,
   "metadata": {
    "colab": {},
    "colab_type": "code",
    "collapsed": true,
    "id": "Dh7xrMciI8E-"
   },
   "outputs": [],
   "source": [
    "# Classification\n",
    "\n",
    "from sklearn.metrics import mean_absolute_error, accuracy_score, classification_report, confusion_matrix\n",
    "from sklearn.model_selection import cross_val_score"
   ]
  },
  {
   "cell_type": "code",
   "execution_count": 0,
   "metadata": {
    "colab": {
     "base_uri": "https://localhost:8080/",
     "height": 85
    },
    "colab_type": "code",
    "id": "B21KX0ocrTVh",
    "outputId": "5a203bee-c041-446a-caae-0ee1cc166ad1"
   },
   "outputs": [
    {
     "name": "stdout",
     "output_type": "stream",
     "text": [
      "KNN: Accuracy= 0.8577\n",
      "[[140  21]\n",
      " [ 17  89]]\n",
      "KNN: Mean CV Accuracy= 0.7281\n"
     ]
    }
   ],
   "source": [
    "# 1. KNN\n",
    "\n",
    "from sklearn.neighbors import KNeighborsClassifier\n",
    "\n",
    "knn = KNeighborsClassifier()\n",
    "knn = knn.fit(train_x, train_y)\n",
    "test_pred = knn.predict(test_x)\n",
    "\n",
    "print('KNN: Accuracy= {:.4f}'.format(accuracy_score(test_pred, test_y)))\n",
    "print(confusion_matrix(test_pred, test_y))\n",
    "\n",
    "acc_cv = cross_val_score(knn, X, Y, cv = 5)\n",
    "print('KNN: Mean CV Accuracy= {:.4f}'.format(acc_cv.mean()))\n",
    "w_knn = acc_cv.mean()"
   ]
  },
  {
   "cell_type": "code",
   "execution_count": 0,
   "metadata": {
    "colab": {
     "base_uri": "https://localhost:8080/",
     "height": 85
    },
    "colab_type": "code",
    "id": "UYIQ9es1pXGE",
    "outputId": "605bc96a-bc62-4d1f-bf41-8dc007f697e4"
   },
   "outputs": [
    {
     "name": "stdout",
     "output_type": "stream",
     "text": [
      "Log-reg (Ridge): Best Accuracy= 0.8577, C= 0.5\n",
      "Log-reg (Ridge): Best Mean CV Accuracy= 0.8270, C= 6.0\n",
      "Log-reg (Lasso): Best Accuracy= 0.8614, C= 0.5\n",
      "Log-reg (Lasso): Best Mean CV Accuracy= 0.8304, C= 2.0\n"
     ]
    }
   ],
   "source": [
    "# 2. Logistic regression\n",
    "\n",
    "from sklearn.linear_model import LogisticRegression\n",
    "\n",
    "pen, pen_name, solver = ['l2', 'l1'], ['Ridge', 'Lasso'], ['lbfgs', 'liblinear']\n",
    "C = np.concatenate((np.linspace(.1,.9,9),np.linspace(1,10,10)))\n",
    "w_logreg = 0\n",
    "\n",
    "for _pen, _pen_name, _solver in zip(pen, pen_name, solver):  \n",
    "  acc_all, acc_cv_all = np.asarray([]), np.asarray([])\n",
    "  for _C in C:\n",
    "    logreg = LogisticRegression(penalty=_pen,\n",
    "                                C=_C,\n",
    "                                solver=_solver,\n",
    "                                max_iter=5000)\n",
    "    logreg.fit(train_x, train_y) \n",
    "    test_pred = logreg.predict(test_x)\n",
    "    acc = accuracy_score(test_pred, test_y)\n",
    "    acc_all = np.concatenate((acc_all, [acc]))\n",
    "\n",
    "    # k-fold CV\n",
    "    \n",
    "    acc_cv =  cross_val_score(logreg, X, Y, cv=5)\n",
    "    acc_cv_all = np.concatenate((acc_cv_all, [acc_cv.mean()]))\n",
    "    \n",
    "    if acc_cv.mean() > w_logreg:\n",
    "      w_logreg = acc_cv.mean()\n",
    "    \n",
    "  print('Log-reg ({}): Best Accuracy= {:.4f}, C= {:.1f}'.format(_pen_name, \n",
    "                                                                acc_all.max(), \n",
    "                                                                C[acc_all.argmax()]))\n",
    "  print('Log-reg ({}): Best Mean CV Accuracy= {:.4f}, C= {:.1f}'.format(_pen_name, \n",
    "                                                                        acc_cv_all.max(), \n",
    "                                                                        C[acc_cv_all.argmax()]))"
   ]
  },
  {
   "cell_type": "code",
   "execution_count": 0,
   "metadata": {
    "colab": {
     "base_uri": "https://localhost:8080/",
     "height": 221
    },
    "colab_type": "code",
    "id": "m2t9HT6Zp60Y",
    "outputId": "13e0584e-2595-46fd-d161-75d18c329d4d"
   },
   "outputs": [
    {
     "name": "stdout",
     "output_type": "stream",
     "text": [
      "Accuracy= 0.8577\n",
      "              precision    recall  f1-score   support\n",
      "\n",
      "           0       0.88      0.88      0.88       157\n",
      "           1       0.83      0.83      0.83       110\n",
      "\n",
      "   micro avg       0.86      0.86      0.86       267\n",
      "   macro avg       0.85      0.85      0.85       267\n",
      "weighted avg       0.86      0.86      0.86       267\n",
      "\n",
      "[[138  19]\n",
      " [ 19  91]]\n"
     ]
    }
   ],
   "source": [
    "# Take Log-reg the best mean CV accuracy\n",
    "\n",
    "logreg = LogisticRegression(penalty='l1',\n",
    "                            C=2,\n",
    "                            solver='liblinear',\n",
    "                            max_iter=5000)\n",
    "logreg.fit(train_x,train_y) \n",
    "test_pred = logreg.predict(test_x)\n",
    "\n",
    "accuracy = accuracy_score(test_pred, test_y)\n",
    "\n",
    "print('Accuracy= {:.4}'.format(accuracy))\n",
    "\n",
    "print(classification_report(test_y, test_pred))\n",
    "print(confusion_matrix(test_pred, test_y))"
   ]
  },
  {
   "cell_type": "code",
   "execution_count": 0,
   "metadata": {
    "colab": {
     "base_uri": "https://localhost:8080/",
     "height": 51
    },
    "colab_type": "code",
    "id": "e5FDXTx5TbIL",
    "outputId": "a1088628-4973-411b-8afd-69cad0410269"
   },
   "outputs": [
    {
     "name": "stdout",
     "output_type": "stream",
     "text": [
      "SVM: Best Accuracy= 0.8539, C= 0.5\n",
      "SVM: Best Mean CV Accuracy= 0.8001, C= 9.0\n"
     ]
    }
   ],
   "source": [
    "# 3. SVM\n",
    "\n",
    "from sklearn.svm import SVC\n",
    "\n",
    "C = np.concatenate((np.linspace(.1,.9,9),np.linspace(1,10,10)))\n",
    "w_svc = 0\n",
    "\n",
    "acc_all, acc_cv_all = np.asarray([]), np.asarray([])\n",
    "for _C in C:\n",
    "  svc = SVC(random_state=42,\n",
    "            C=_C,\n",
    "            gamma='scale')\n",
    "  svc.fit(train_x, train_y)\n",
    "  test_pred = svc.predict(test_x)\n",
    "  acc = accuracy_score(test_pred, test_y)\n",
    "  acc_all = np.concatenate((acc_all, [acc]))\n",
    "\n",
    "  # k-fold CV\n",
    "    \n",
    "  acc_cv =  cross_val_score(svc, X, Y, cv=5)\n",
    "  acc_cv_all = np.concatenate((acc_cv_all, [acc_cv.mean()]))\n",
    "  \n",
    "  if acc_cv.mean() > w_svc:\n",
    "    w_svc = acc_cv.mean()\n",
    "  \n",
    "print('SVM: Best Accuracy= {:.4f}, C= {:.1f}'.format(acc_all.max(), \n",
    "                                                     C[acc_all.argmax()]))\n",
    "print('SVM: Best Mean CV Accuracy= {:.4f}, C= {:.1f}'.format(acc_cv_all.max(), \n",
    "                                                      C[acc_cv_all.argmax()]))"
   ]
  },
  {
   "cell_type": "code",
   "execution_count": 0,
   "metadata": {
    "colab": {
     "base_uri": "https://localhost:8080/",
     "height": 68
    },
    "colab_type": "code",
    "id": "LPxxr8RIUPfb",
    "outputId": "8f8bf0f0-bf3b-4450-ff72-7b12845f4395"
   },
   "outputs": [
    {
     "name": "stdout",
     "output_type": "stream",
     "text": [
      "SVM: Accuracy= 0.8277\n",
      "[[139  28]\n",
      " [ 18  82]]\n"
     ]
    }
   ],
   "source": [
    "# Take SVM the best C\n",
    "\n",
    "svc = SVC(random_state=42,\n",
    "          C=C[acc_cv_all.argmax()],\n",
    "          gamma='scale',\n",
    "          probability=True)\n",
    "svc.fit(train_x, train_y)\n",
    "test_pred = svc.predict(test_x)\n",
    "print('SVM: Accuracy= {:.4f}'.format(accuracy_score(test_pred, test_y)))\n",
    "print(confusion_matrix(test_pred, test_y))"
   ]
  },
  {
   "cell_type": "code",
   "execution_count": 0,
   "metadata": {
    "colab": {
     "base_uri": "https://localhost:8080/",
     "height": 51
    },
    "colab_type": "code",
    "id": "InLHEVsbXXoI",
    "outputId": "dee23805-e658-42cb-fe0b-f6b0338f4bc4"
   },
   "outputs": [
    {
     "name": "stdout",
     "output_type": "stream",
     "text": [
      "Random Forest: Best Accuracy= 0.8464, depth= 2\n",
      "Random Forest: Best OOB Accuracy= 0.8250, depth= 9\n"
     ]
    }
   ],
   "source": [
    "# 4. Random Forest\n",
    "\n",
    "from sklearn.ensemble import RandomForestClassifier\n",
    "\n",
    "depth = range(2,11)\n",
    "acc_all, oob_all = np.asarray([]), np.asarray([])\n",
    "\n",
    "for _depth in depth:\n",
    "  rfc = RandomForestClassifier(n_estimators=100,\n",
    "                               max_depth=_depth,\n",
    "                               oob_score=True,\n",
    "                               random_state=42)\n",
    "  rfc.fit(train_x, train_y)\n",
    "  test_pred = rfc.predict(test_x)\n",
    "\n",
    "  acc = accuracy_score(test_pred, test_y)\n",
    "  acc_all = np.concatenate((acc_all, [acc]))\n",
    "  \n",
    "  oob = rfc.oob_score_\n",
    "  oob_all = np.concatenate((oob_all, [oob]))\n",
    "  w_rfc = oob_all.max()\n",
    "  \n",
    "print('Random Forest: Best Accuracy= {:.4f}, depth= {}'.format(acc_all.max(), \n",
    "                                                               depth[acc_all.argmax()]))\n",
    "print('Random Forest: Best OOB Accuracy= {:.4f}, depth= {}'.format(oob_all.max(), \n",
    "                                                                   depth[oob_all.argmax()]))"
   ]
  },
  {
   "cell_type": "code",
   "execution_count": 0,
   "metadata": {
    "colab": {
     "base_uri": "https://localhost:8080/",
     "height": 85
    },
    "colab_type": "code",
    "id": "g7BPmDmIevce",
    "outputId": "cace7fed-e814-428e-e30b-e833ea13eea5"
   },
   "outputs": [
    {
     "name": "stdout",
     "output_type": "stream",
     "text": [
      "Accuracy= 0.8277\n",
      "OOB Accuracy= 0.8250\n",
      "[[136  25]\n",
      " [ 21  85]]\n"
     ]
    }
   ],
   "source": [
    "# Take Random Forest with optimized depth\n",
    "\n",
    "from sklearn.ensemble import RandomForestClassifier\n",
    "\n",
    "rfc = RandomForestClassifier(n_estimators=100,\n",
    "                             max_depth=depth[oob_all.argmax()],\n",
    "                             oob_score=True,\n",
    "                             random_state=42)\n",
    "rfc.fit(train_x, train_y)\n",
    "test_pred = rfc.predict(test_x)\n",
    "\n",
    "print('Accuracy= {:.4f}'.format(accuracy_score(test_pred, test_y)))\n",
    "print('OOB Accuracy= {:.4f}'.format(rfc.oob_score_))\n",
    "print(confusion_matrix(test_pred, test_y))"
   ]
  },
  {
   "cell_type": "code",
   "execution_count": 0,
   "metadata": {
    "colab": {
     "base_uri": "https://localhost:8080/",
     "height": 68
    },
    "colab_type": "code",
    "id": "aKRxCx7Vc8UD",
    "outputId": "f2ee33eb-6453-4671-b93b-8e8428f835d1"
   },
   "outputs": [
    {
     "name": "stdout",
     "output_type": "stream",
     "text": [
      "Decision Tree: Accuracy= 0.7828\n",
      "[[126  27]\n",
      " [ 31  83]]\n"
     ]
    }
   ],
   "source": [
    "# 4a. Decision Tree\n",
    "\n",
    "from sklearn.tree import DecisionTreeClassifier\n",
    "\n",
    "dtc = DecisionTreeClassifier(random_state=42)\n",
    "dtc.fit(train_x, train_y)\n",
    "test_pred = dtc.predict(test_x)\n",
    "\n",
    "print('Decision Tree: Accuracy= {:.4f}'.format(accuracy_score(test_pred, test_y)))\n",
    "print(confusion_matrix(test_pred, test_y))\n",
    "w_dtc = accuracy_score(test_pred, test_y)"
   ]
  },
  {
   "cell_type": "code",
   "execution_count": 0,
   "metadata": {
    "colab": {
     "base_uri": "https://localhost:8080/",
     "height": 68
    },
    "colab_type": "code",
    "id": "Dyk068X9cUEH",
    "outputId": "b1eb8e19-ba9f-4a56-df82-4bfc2d1ff4af"
   },
   "outputs": [
    {
     "name": "stdout",
     "output_type": "stream",
     "text": [
      "Extra Trees: Accuracy= 0.8015\n",
      "[[128  24]\n",
      " [ 29  86]]\n"
     ]
    }
   ],
   "source": [
    "# 4b. Extra Trees\n",
    "\n",
    "from sklearn.ensemble import ExtraTreesClassifier\n",
    "\n",
    "etc = ExtraTreesClassifier(n_estimators=100,\n",
    "                           random_state=42)\n",
    "etc.fit(train_x, train_y)\n",
    "test_pred = etc.predict(test_x)\n",
    "\n",
    "print('Extra Trees: Accuracy= {:.4f}'.format(accuracy_score(test_pred, test_y)))\n",
    "print(confusion_matrix(test_pred, test_y))\n",
    "w_etc = accuracy_score(test_pred, test_y)"
   ]
  },
  {
   "cell_type": "code",
   "execution_count": 0,
   "metadata": {
    "colab": {
     "base_uri": "https://localhost:8080/",
     "height": 68
    },
    "colab_type": "code",
    "id": "YIMXm3X5WRni",
    "outputId": "37926430-1c12-46e9-ac84-e5a0cdb41498"
   },
   "outputs": [
    {
     "name": "stdout",
     "output_type": "stream",
     "text": [
      "Bagging: Accuracy= 0.8127\n",
      "[[132  25]\n",
      " [ 25  85]]\n"
     ]
    }
   ],
   "source": [
    "# 5. Bagging\n",
    "\n",
    "from sklearn.ensemble import BaggingClassifier\n",
    "\n",
    "bagc = BaggingClassifier(random_state=42)\n",
    "bagc.fit(train_x, train_y)\n",
    "test_pred = bagc.predict(test_x)\n",
    "\n",
    "print('Bagging: Accuracy= {:.4f}'.format(accuracy_score(test_pred, test_y)))\n",
    "print(confusion_matrix(test_pred, test_y))\n",
    "w_bagc = accuracy_score(test_pred, test_y)"
   ]
  },
  {
   "cell_type": "code",
   "execution_count": 0,
   "metadata": {
    "colab": {
     "base_uri": "https://localhost:8080/",
     "height": 68
    },
    "colab_type": "code",
    "id": "8juHReYfYDbU",
    "outputId": "b30e37ef-c874-4631-ec5d-3c638c510765"
   },
   "outputs": [
    {
     "name": "stdout",
     "output_type": "stream",
     "text": [
      "Gradient Boosting: Accuracy= 0.8352\n",
      "[[138  25]\n",
      " [ 19  85]]\n"
     ]
    }
   ],
   "source": [
    "# 6. Gradient Boosting\n",
    "\n",
    "from sklearn.ensemble import GradientBoostingClassifier\n",
    "\n",
    "gbc = GradientBoostingClassifier(random_state=42)\n",
    "gbc.fit(train_x, train_y)\n",
    "test_pred = gbc.predict(test_x)\n",
    "\n",
    "print('Gradient Boosting: Accuracy= {:.4f}'.format(accuracy_score(test_pred, test_y)))\n",
    "print(confusion_matrix(test_pred, test_y))\n",
    "w_gbc = accuracy_score(test_pred, test_y)"
   ]
  },
  {
   "cell_type": "code",
   "execution_count": 0,
   "metadata": {
    "colab": {
     "base_uri": "https://localhost:8080/",
     "height": 68
    },
    "colab_type": "code",
    "id": "PtTLGrXjab_4",
    "outputId": "524e0a65-ed3a-4215-ba8b-8b6c770e26e6"
   },
   "outputs": [
    {
     "name": "stdout",
     "output_type": "stream",
     "text": [
      "XGB: Accuracy= 0.8689\n",
      "[[141  19]\n",
      " [ 16  91]]\n"
     ]
    }
   ],
   "source": [
    "# 6a. XGB\n",
    "\n",
    "from xgboost import XGBClassifier\n",
    "\n",
    "xgb = XGBClassifier(random_state=42)\n",
    "xgb.fit(train_x, train_y)\n",
    "test_pred = xgb.predict(test_x)\n",
    "\n",
    "print('XGB: Accuracy= {:.4f}'.format(accuracy_score(test_pred, test_y)))\n",
    "print(confusion_matrix(test_pred, test_y))\n",
    "w_xgb = accuracy_score(test_pred, test_y)"
   ]
  },
  {
   "cell_type": "code",
   "execution_count": 0,
   "metadata": {
    "colab": {
     "base_uri": "https://localhost:8080/",
     "height": 68
    },
    "colab_type": "code",
    "id": "h0U54X9la0ID",
    "outputId": "e7ba0df7-f034-4e7a-f555-f97c828852b7"
   },
   "outputs": [
    {
     "name": "stdout",
     "output_type": "stream",
     "text": [
      "AdaBoost: Accuracy= 0.8352\n",
      "[[137  24]\n",
      " [ 20  86]]\n"
     ]
    }
   ],
   "source": [
    "# 7. AdaBoost\n",
    "\n",
    "from sklearn.ensemble import AdaBoostClassifier\n",
    "\n",
    "abc = AdaBoostClassifier(random_state=42)\n",
    "abc.fit(train_x, train_y)\n",
    "test_pred = abc.predict(test_x)\n",
    "\n",
    "print('AdaBoost: Accuracy= {:.4f}'.format(accuracy_score(test_pred, test_y)))\n",
    "print(confusion_matrix(test_pred, test_y))\n",
    "w_abc = accuracy_score(test_pred, test_y)"
   ]
  },
  {
   "cell_type": "code",
   "execution_count": 0,
   "metadata": {
    "colab": {
     "base_uri": "https://localhost:8080/",
     "height": 68
    },
    "colab_type": "code",
    "id": "QBBZaHsBRglr",
    "outputId": "86713931-062d-456c-ac30-98e455d43f98"
   },
   "outputs": [
    {
     "name": "stdout",
     "output_type": "stream",
     "text": [
      "Naïve Bayes: Accuracy= 0.8015\n",
      "[[126  22]\n",
      " [ 31  88]]\n"
     ]
    }
   ],
   "source": [
    "# 8. Naïve Bayes\n",
    "\n",
    "from sklearn.naive_bayes import GaussianNB\n",
    "from sklearn.metrics import accuracy_score\n",
    "\n",
    "nb = GaussianNB()\n",
    "nb.fit(train_x, train_y)\n",
    "test_pred = nb.predict(test_x)\n",
    "\n",
    "print('Naïve Bayes: Accuracy= {:.4f}'.format(accuracy_score(test_pred, test_y)))\n",
    "print(confusion_matrix(test_pred, test_y))\n",
    "w_nb = accuracy_score(test_pred, test_y)"
   ]
  },
  {
   "cell_type": "code",
   "execution_count": 0,
   "metadata": {
    "colab": {
     "base_uri": "https://localhost:8080/",
     "height": 68
    },
    "colab_type": "code",
    "id": "EG-9pdZNdZBk",
    "outputId": "3bdc0219-1793-4a70-f51f-5f384d32474e"
   },
   "outputs": [
    {
     "name": "stdout",
     "output_type": "stream",
     "text": [
      "Gaussian Process: Accuracy= 0.8202\n",
      "[[137  28]\n",
      " [ 20  82]]\n"
     ]
    }
   ],
   "source": [
    "# 9. Gaussian Process\n",
    "\n",
    "from sklearn.gaussian_process import GaussianProcessClassifier\n",
    "\n",
    "gp = GaussianProcessClassifier(random_state=42)\n",
    "gp.fit(train_x, train_y)\n",
    "test_pred = gp.predict(test_x)\n",
    "\n",
    "print('Gaussian Process: Accuracy= {:.4f}'.format(accuracy_score(test_pred, test_y)))\n",
    "print(confusion_matrix(test_pred, test_y))\n",
    "w_gp = accuracy_score(test_pred, test_y)"
   ]
  },
  {
   "cell_type": "code",
   "execution_count": 0,
   "metadata": {
    "colab": {
     "base_uri": "https://localhost:8080/",
     "height": 452
    },
    "colab_type": "code",
    "id": "QUb_cGrAim8Z",
    "outputId": "15010d3d-69f9-4d4d-a436-7e6eb0c8232c"
   },
   "outputs": [
    {
     "data": {
      "text/html": [
       "<div>\n",
       "<style scoped>\n",
       "    .dataframe tbody tr th:only-of-type {\n",
       "        vertical-align: middle;\n",
       "    }\n",
       "\n",
       "    .dataframe tbody tr th {\n",
       "        vertical-align: top;\n",
       "    }\n",
       "\n",
       "    .dataframe thead th {\n",
       "        text-align: right;\n",
       "    }\n",
       "</style>\n",
       "<table border=\"1\" class=\"dataframe\">\n",
       "  <thead>\n",
       "    <tr style=\"text-align: right;\">\n",
       "      <th></th>\n",
       "      <th>Accuracy</th>\n",
       "    </tr>\n",
       "    <tr>\n",
       "      <th>Model</th>\n",
       "      <th></th>\n",
       "    </tr>\n",
       "  </thead>\n",
       "  <tbody>\n",
       "    <tr>\n",
       "      <th>XGB</th>\n",
       "      <td>0.868914</td>\n",
       "    </tr>\n",
       "    <tr>\n",
       "      <th>KNN</th>\n",
       "      <td>0.857678</td>\n",
       "    </tr>\n",
       "    <tr>\n",
       "      <th>Logistic Regression</th>\n",
       "      <td>0.857678</td>\n",
       "    </tr>\n",
       "    <tr>\n",
       "      <th>Gradient Boosting</th>\n",
       "      <td>0.835206</td>\n",
       "    </tr>\n",
       "    <tr>\n",
       "      <th>AdaBoost</th>\n",
       "      <td>0.835206</td>\n",
       "    </tr>\n",
       "    <tr>\n",
       "      <th>SVM</th>\n",
       "      <td>0.827715</td>\n",
       "    </tr>\n",
       "    <tr>\n",
       "      <th>Random Forest</th>\n",
       "      <td>0.827715</td>\n",
       "    </tr>\n",
       "    <tr>\n",
       "      <th>Gaussian Process</th>\n",
       "      <td>0.820225</td>\n",
       "    </tr>\n",
       "    <tr>\n",
       "      <th>Bagging</th>\n",
       "      <td>0.812734</td>\n",
       "    </tr>\n",
       "    <tr>\n",
       "      <th>Extra Trees</th>\n",
       "      <td>0.801498</td>\n",
       "    </tr>\n",
       "    <tr>\n",
       "      <th>Naïve Bayes</th>\n",
       "      <td>0.801498</td>\n",
       "    </tr>\n",
       "    <tr>\n",
       "      <th>Decision Tree</th>\n",
       "      <td>0.782772</td>\n",
       "    </tr>\n",
       "  </tbody>\n",
       "</table>\n",
       "</div>"
      ],
      "text/plain": [
       "                     Accuracy\n",
       "Model                        \n",
       "XGB                  0.868914\n",
       "KNN                  0.857678\n",
       "Logistic Regression  0.857678\n",
       "Gradient Boosting    0.835206\n",
       "AdaBoost             0.835206\n",
       "SVM                  0.827715\n",
       "Random Forest        0.827715\n",
       "Gaussian Process     0.820225\n",
       "Bagging              0.812734\n",
       "Extra Trees          0.801498\n",
       "Naïve Bayes          0.801498\n",
       "Decision Tree        0.782772"
      ]
     },
     "execution_count": 77,
     "metadata": {
      "tags": []
     },
     "output_type": "execute_result"
    }
   ],
   "source": [
    "# Summary\n",
    "\n",
    "model = [knn, logreg, svc, rfc, dtc, etc, bagc, gbc, xgb, abc, nb, gp]\n",
    "model_name = ['KNN', 'Logistic Regression', 'SVM', 'Random Forest', 'Decision Tree', 'Extra Trees', 'Bagging', 'Gradient Boosting', 'XGB', 'AdaBoost', 'Naïve Bayes', 'Gaussian Process']\n",
    "acc_summ = [accuracy_score(m.predict(test_x), test_y) for m in model]\n",
    "self_defined_w = [w_knn, w_logreg, w_svc, w_rfc, w_dtc, w_etc, w_bagc, w_gbc, w_xgb, w_abc, w_nb, w_gp]\n",
    " \n",
    "summ = pd.DataFrame({'Model': model_name, \n",
    "                     'Accuracy': acc_summ}).set_index('Model').sort_values('Accuracy',\n",
    "                                                                           ascending=False)\n",
    "summ"
   ]
  },
  {
   "cell_type": "code",
   "execution_count": 0,
   "metadata": {
    "colab": {
     "base_uri": "https://localhost:8080/",
     "height": 119
    },
    "colab_type": "code",
    "id": "vaIQGid8d_iA",
    "outputId": "7da5e5c7-514b-4156-f33d-5f4a0184aad1"
   },
   "outputs": [
    {
     "name": "stdout",
     "output_type": "stream",
     "text": [
      "Voting (hard): Accuracy= 0.8464\n",
      "[[137  21]\n",
      " [ 20  89]]\n",
      "Voting (soft): Accuracy= 0.8539\n",
      "[[138  20]\n",
      " [ 19  90]]\n"
     ]
    }
   ],
   "source": [
    "# ∞. Voting\n",
    "\n",
    "from sklearn.ensemble import VotingClassifier\n",
    "\n",
    "for softness in ['hard', 'soft']:\n",
    "  vote = VotingClassifier(estimators=[('KNN', knn),\n",
    "                                      ('Logistic Regression', logreg), \n",
    "                                      ('SVM', svc),\n",
    "                                      ('Random Forest', rfc),\n",
    "                                      ('Decision Tree', dtc),\n",
    "                                      ('Extra Trees', etc),\n",
    "                                      ('Bagging', bagc), \n",
    "                                      ('Gradient Boosting', gbc),\n",
    "                                      ('XGB', xgb), \n",
    "                                      ('AdaBoost', abc),\n",
    "                                      ('Naïve Bayes', nb),\n",
    "                                      ('Gaussian Process', gp)], \n",
    "                          voting=softness,\n",
    "                          weights=acc_summ) # or self_defined_w\n",
    "\n",
    "  vote = vote.fit(train_x,train_y)\n",
    "  test_pred = vote.predict(test_x)\n",
    "\n",
    "  print('Voting ({}): Accuracy= {:.4f}'.format(softness, accuracy_score(test_pred, test_y)))\n",
    "  print(confusion_matrix(test_pred, test_y))"
   ]
  },
  {
   "cell_type": "code",
   "execution_count": 0,
   "metadata": {
    "colab": {
     "base_uri": "https://localhost:8080/",
     "height": 4865
    },
    "colab_type": "code",
    "id": "xe4zR35m2NIQ",
    "outputId": "aa9cf983-6a5b-4d1d-ea43-513a190aabac"
   },
   "outputs": [
    {
     "name": "stdout",
     "output_type": "stream",
     "text": [
      "Collecting vecstack\n",
      "  Downloading https://files.pythonhosted.org/packages/d9/1d/7665736f10f3e15af9d51b4e73c16c8ea798e339f6bf4eadfa1dee77c672/vecstack-0.3.0.tar.gz\n",
      "Requirement already satisfied: numpy in /usr/local/lib/python3.6/dist-packages (from vecstack) (1.14.6)\n",
      "Requirement already satisfied: scipy in /usr/local/lib/python3.6/dist-packages (from vecstack) (1.1.0)\n",
      "Requirement already satisfied: scikit-learn>=0.18 in /usr/local/lib/python3.6/dist-packages (from vecstack) (0.20.2)\n",
      "Building wheels for collected packages: vecstack\n",
      "  Running setup.py bdist_wheel for vecstack ... \u001b[?25l-\b \bdone\n",
      "\u001b[?25h  Stored in directory: /root/.cache/pip/wheels/35/6d/ca/bce17942bcf7c267b13c97c9c95e2f0ecf0b42160e6074f448\n",
      "Successfully built vecstack\n",
      "Installing collected packages: vecstack\n",
      "Successfully installed vecstack-0.3.0\n",
      "Help on function stacking in module vecstack.core:\n",
      "\n",
      "stacking(models, X_train, y_train, X_test, sample_weight=None, regression=True, transform_target=None, transform_pred=None, mode='oof_pred_bag', needs_proba=False, save_dir=None, metric=None, n_folds=4, stratified=False, shuffle=False, random_state=0, verbose=0)\n",
      "    Function 'stacking' takes train data, test data and list of 1-st level\n",
      "    models, and returns stacking features, which can be used with 2-nd level model.\n",
      "    \n",
      "    Complete examples and stacking concept - see below.\n",
      "    \n",
      "    Parameters\n",
      "    ----------\n",
      "    models : list \n",
      "        List of 1-st level models. You can use any models that follow sklearn\n",
      "        convention i.e. accept numpy arrays and have \n",
      "        methods 'fit', 'predict' and 'predict_proba'.\n",
      "        Following sklearn convention in binary classification \n",
      "        task with probabilities model must return probabilities \n",
      "        for each class (i.e. two columns).\n",
      "        \n",
      "    X_train : numpy array or sparse matrix of shape [n_train_samples, n_features]\n",
      "        Training data\n",
      "    \n",
      "    y_train : numpy 1d array\n",
      "        Target values\n",
      "        \n",
      "    X_test : numpy array or sparse matrix of shape [n_test_samples, n_features]\n",
      "        Test data\n",
      "        \n",
      "    sample_weight : numpy array of shape [n_train_samples]\n",
      "        Individual weights for each sample (passed to fit method of the model).\n",
      "        Note: sample_weight has length of full training set X_train and it would be\n",
      "        split automatically for each fold.\n",
      "        \n",
      "    regression : boolean, default True\n",
      "        If True - perform stacking for regression task, \n",
      "        if False - perform stacking for classification task\n",
      "        \n",
      "    transform_target : callable, default None\n",
      "        Function to transform target variable.\n",
      "        If None - transformation is not used.\n",
      "        For example, for regression task (if target variable is skewed)\n",
      "            you can use transformation like numpy.log1p.\n",
      "            Set transform_target = numpy.log1p\n",
      "        Usually you want to use respective backward transformation \n",
      "            for prediction like numpy.expm1.\n",
      "            Set transform_pred = numpy.expm1\n",
      "        Caution! Some transformations may give inapplicable results. \n",
      "            For example, if target variable contains zeros, numpy.log \n",
      "            gives you -inf. In such case you can use appropriate \n",
      "            transformation like numpy.log1p and respective\n",
      "            backward transformation like numpy.expm1\n",
      "        \n",
      "    transform_pred : callable, default None\n",
      "        Function to transform prediction.\n",
      "        If None - transformation is not used.\n",
      "        If you use transformation for target variable (transform_target)\n",
      "            like numpy.log1p, then using transform_pred you can specify \n",
      "            respective backward transformation like numpy.expm1.\n",
      "        Look at description of parameter transform_target\n",
      "        \n",
      "    mode: str, default 'oof_pred_bag'\n",
      "        Note: for detailes see terminology below\n",
      "        'oof' - return only oof\n",
      "        'oof_pred' - return oof and pred\n",
      "        'oof_pred_bag' - return oof and bagged pred\n",
      "        'pred' - return pred only\n",
      "        'pred_bag' - return bagged pred only\n",
      "        Terminology:\n",
      "            oof - out-of-fold predictions for train set\n",
      "            pred - predictions for tests set (model is fitted once on full train set, then predicts test set)\n",
      "            bagged pred - bagged predictions for tests set (given that we have N folds, \n",
      "                we fit N models on each fold's train data, then each model predicts test set,\n",
      "                then we perform bagging: compute mean of predicted values (for regression or class probabilities) \n",
      "                or majority voting: compute mode (when predictions are class labels)\n",
      "        \n",
      "    needs_proba: boolean, default False, meaningful only for classification task\n",
      "        Whether to predict probabilities (instead of class labels)\n",
      "        in classification task.\n",
      "        Ignored if regression=True\n",
      "        \n",
      "    save_dir: str, default None\n",
      "        If specified - considered as a valid directory (must exist) where log and \n",
      "        returned arrays will be saved. \n",
      "        If not specified - log and arrays will not be saved.\n",
      "        Path may be absolute or relative to the directory from where script was run.\n",
      "        Absolute examples: Win: 'c:/some/dir', Linux: '/home/user/run'\n",
      "        Relative examples: Win and Linux current directory: '.'\n",
      "        Both arrays are saved in a single .npy file, so you can load it as follows:\n",
      "        S = np.load('c:/some/dir/[2017.11.29].[13.47.31].250824.45dc2b.npy')\n",
      "        S_train = S[0]\n",
      "        S_test = S[1]\n",
      "        Log is saved in plain text.\n",
      "        File names are the current timestamp plus random part to ensure uniqueness.\n",
      "        \n",
      "    metric : callable, default None\n",
      "        Evaluation metric (score function) which is used to calculate \n",
      "        results of cross-validation.\n",
      "        If None, then by default:\n",
      "            sklearn.metrics.mean_absolute_error - for regression\n",
      "            sklearn.metrics.accuracy_score - for classification with class labels\n",
      "            sklearn.metrics.log_loss - for classification with probabilities\n",
      "        You can use any appropriate sklearn metric or \n",
      "            define your own metric like shown below:\n",
      "        \n",
      "        def your_metric(y_true, y_pred):\n",
      "            # calculate\n",
      "            return result\n",
      "            \n",
      "        MEAN/FULL interpretation:\n",
      "            MEAN - mean (average) of scores for each fold.\n",
      "            FULL - metric calculated using combined oof predictions\n",
      "                for full train set and target.\n",
      "            For some metrics (e.g. rmse, rmsle) MEAN and FULL values are \n",
      "                slightly different\n",
      "        \n",
      "    n_folds : int, default 4\n",
      "        Number of folds in cross-validation\n",
      "        \n",
      "    stratified : boolean, default False, meaningful only for classification task\n",
      "        If True - use stratified folds in cross-validation\n",
      "        Ignored if regression=True\n",
      "        \n",
      "    shuffle : boolean, default False\n",
      "        Whether to perform a shuffle before cross-validation split\n",
      "        \n",
      "    random_state : int, default 0\n",
      "        Random seed\n",
      "        \n",
      "    verbose : int, default 0\n",
      "        Level of verbosity.\n",
      "        0 - show no messages\n",
      "        1 - for each model show mean score\n",
      "        2 - for each model show score for each fold and mean score\n",
      "        \n",
      "    Returns\n",
      "    -------\n",
      "    S_train : numpy array of shape [n_train_samples, n_models] or None\n",
      "        Stacking features for train set\n",
      "        \n",
      "    S_test : numpy array of shape [n_test_samples, n_models] or None\n",
      "        Stacking features for test set\n",
      "    \n",
      "    Brief example (complete examples - see below)\n",
      "    ---------------------------------------------\n",
      "    from vecstack import stacking\n",
      "    \n",
      "    # Get your data\n",
      "    \n",
      "    # Initialize 1-st level models\n",
      "    \n",
      "    # Get your stacking features in a single line\n",
      "    S_train, S_test = stacking(models, X_train, y_train, X_test, \n",
      "                               regression = True, verbose = 2)\n",
      "    \n",
      "    # Use 2-nd level model with stacking features\n",
      "    \n",
      "    Stacking concept\n",
      "    ----------------\n",
      "    1. We want to predict train and test sets with some 1-st level model(s), \n",
      "       and then use this predictions as features for 2-nd level model.\n",
      "    2. Any model can be used as 1-st level model or 2-nd level model.\n",
      "    3. To avoid overfitting (for train set) we use cross-validation technique \n",
      "       and in each fold we predict out-of-fold part of train set.\n",
      "    4. The common practice is to use from 3 to 10 folds.\n",
      "    5. In each fold we predict full test set, so after completion of all folds \n",
      "       we need to find mean (mode) of all test set predictions made in each fold.\n",
      "    \n",
      "    You can find further stacking explanation with pictures at\n",
      "    https://github.com/vecxoz/vecstack\n",
      "    \n",
      "    Complete examples\n",
      "    -----------------\n",
      "    \n",
      "    Regression\n",
      "    ----------\n",
      "    from sklearn.datasets import load_boston\n",
      "    from sklearn.model_selection import train_test_split\n",
      "    from sklearn.metrics import mean_absolute_error\n",
      "    from sklearn.ensemble import ExtraTreesRegressor\n",
      "    from sklearn.ensemble import RandomForestRegressor\n",
      "    from xgboost import XGBRegressor\n",
      "    from vecstack import stacking\n",
      "    \n",
      "    # Load demo data\n",
      "    boston = load_boston()\n",
      "    X, y = boston.data, boston.target\n",
      "    \n",
      "    # Make train/test split\n",
      "    # As usual in machine learning task we have X_train, y_train, and X_test\n",
      "    X_train, X_test, y_train, y_test = train_test_split(X, y, \n",
      "        test_size = 0.2, random_state = 0)\n",
      "    \n",
      "    # Caution! All models and parameter values are just \n",
      "    # demonstrational and shouldn't be considered as recommended.\n",
      "    # Initialize 1-st level models.\n",
      "    models = [\n",
      "        ExtraTreesRegressor(random_state = 0, n_jobs = -1, \n",
      "            n_estimators = 100, max_depth = 3),\n",
      "        \n",
      "        RandomForestRegressor(random_state = 0, n_jobs = -1, \n",
      "            n_estimators = 100, max_depth = 3),\n",
      "        \n",
      "        XGBRegressor(seed = 0, n_jobs = -1, learning_rate = 0.1, \n",
      "            n_estimators = 100, max_depth = 3)]\n",
      "    \n",
      "    # Compute stacking features\n",
      "    S_train, S_test = stacking(models, X_train, y_train, X_test, \n",
      "        regression = True, metric = mean_absolute_error, n_folds = 4, \n",
      "        shuffle = True, random_state = 0, verbose = 2)\n",
      "    \n",
      "    # Initialize 2-nd level model\n",
      "    model = XGBRegressor(seed = 0, n_jobs = -1, learning_rate = 0.1, \n",
      "        n_estimators = 100, max_depth = 3)\n",
      "    \n",
      "    # Fit 2-nd level model\n",
      "    model = model.fit(S_train, y_train)\n",
      "    \n",
      "    # Predict\n",
      "    y_pred = model.predict(S_test)\n",
      "    \n",
      "    # Final prediction score\n",
      "    print('Final prediction score: [%.8f]' % mean_absolute_error(y_test, y_pred))\n",
      "    \n",
      "    \n",
      "    Classification\n",
      "    --------------\n",
      "    from sklearn.datasets import load_iris\n",
      "    from sklearn.model_selection import train_test_split\n",
      "    from sklearn.metrics import accuracy_score\n",
      "    from sklearn.ensemble import ExtraTreesClassifier\n",
      "    from sklearn.ensemble import RandomForestClassifier\n",
      "    from xgboost import XGBClassifier\n",
      "    from vecstack import stacking\n",
      "    \n",
      "    # Load demo data\n",
      "    iris = load_iris()\n",
      "    X, y = iris.data, iris.target\n",
      "    \n",
      "    # Make train/test split\n",
      "    # As usual in machine learning task we have X_train, y_train, and X_test\n",
      "    X_train, X_test, y_train, y_test = train_test_split(X, y, \n",
      "        test_size = 0.2, random_state = 0)\n",
      "    \n",
      "    # Caution! All models and parameter values are just \n",
      "    # demonstrational and shouldn't be considered as recommended.\n",
      "    # Initialize 1-st level models.\n",
      "    models = [\n",
      "        ExtraTreesClassifier(random_state = 0, n_jobs = -1, \n",
      "            n_estimators = 100, max_depth = 3),\n",
      "        \n",
      "        RandomForestClassifier(random_state = 0, n_jobs = -1, \n",
      "            n_estimators = 100, max_depth = 3),\n",
      "        \n",
      "        XGBClassifier(seed = 0, n_jobs = -1, learning_rate = 0.1, \n",
      "            n_estimators = 100, max_depth = 3)]\n",
      "    \n",
      "    # Compute stacking features\n",
      "    S_train, S_test = stacking(models, X_train, y_train, X_test, \n",
      "        regression = False, metric = accuracy_score, n_folds = 4, \n",
      "        stratified = True, shuffle = True, random_state = 0, verbose = 2)\n",
      "    \n",
      "    # Initialize 2-nd level model\n",
      "    model = XGBClassifier(seed = 0, n_jobs = -1, learning_rate = 0.1, \n",
      "        n_estimators = 100, max_depth = 3)\n",
      "    \n",
      "    # Fit 2-nd level model\n",
      "    model = model.fit(S_train, y_train)\n",
      "    \n",
      "    # Predict\n",
      "    y_pred = model.predict(S_test)\n",
      "    \n",
      "    # Final prediction score\n",
      "    print('Final prediction score: [%.8f]' % accuracy_score(y_test, y_pred))\n",
      "\n"
     ]
    }
   ],
   "source": [
    "# Install vecstack\n",
    "\n",
    "!pip install vecstack\n",
    "from vecstack import stacking\n",
    "help(stacking)"
   ]
  },
  {
   "cell_type": "code",
   "execution_count": 0,
   "metadata": {
    "colab": {
     "base_uri": "https://localhost:8080/",
     "height": 2159
    },
    "colab_type": "code",
    "id": "HKZJwWL61tPz",
    "outputId": "e3e54ed6-e9a6-4ee8-95cb-a34a4a1925e9"
   },
   "outputs": [
    {
     "name": "stdout",
     "output_type": "stream",
     "text": [
      "task:         [classification]\n",
      "n_classes:    [2]\n",
      "metric:       [accuracy_score]\n",
      "mode:         [oof_pred_bag]\n",
      "n_models:     [12]\n",
      "\n",
      "model  0:     [KNeighborsClassifier]\n",
      "    fold  0:  [0.77600000]\n",
      "    fold  1:  [0.78400000]\n",
      "    fold  2:  [0.70400000]\n",
      "    fold  3:  [0.83064516]\n",
      "    fold  4:  [0.81451613]\n",
      "    ----\n",
      "    MEAN:     [0.78183226] + [0.04369785]\n",
      "    FULL:     [0.78170144]\n",
      "\n",
      "model  1:     [LogisticRegression]\n",
      "    fold  0:  [0.80800000]\n",
      "    fold  1:  [0.82400000]\n",
      "    fold  2:  [0.75200000]\n",
      "    fold  3:  [0.84677419]\n",
      "    fold  4:  [0.78225806]\n",
      "    ----\n",
      "    MEAN:     [0.80260645] + [0.03290177]\n",
      "    FULL:     [0.80256822]\n",
      "\n",
      "model  2:     [SVC]\n",
      "    fold  0:  [0.80000000]\n",
      "    fold  1:  [0.80000000]\n",
      "    fold  2:  [0.72000000]\n",
      "    fold  3:  [0.83870968]\n",
      "    fold  4:  [0.79032258]\n",
      "    ----\n",
      "    MEAN:     [0.78980645] + [0.03865889]\n",
      "    FULL:     [0.78972713]\n",
      "\n",
      "model  3:     [RandomForestClassifier]\n",
      "    fold  0:  [0.78400000]\n",
      "    fold  1:  [0.80000000]\n",
      "    fold  2:  [0.73600000]\n",
      "    fold  3:  [0.87096774]\n",
      "    fold  4:  [0.79032258]\n",
      "    ----\n",
      "    MEAN:     [0.79625806] + [0.04338678]\n",
      "    FULL:     [0.79614767]\n",
      "\n",
      "model  4:     [DecisionTreeClassifier]\n",
      "    fold  0:  [0.76800000]\n",
      "    fold  1:  [0.75200000]\n",
      "    fold  2:  [0.70400000]\n",
      "    fold  3:  [0.78225806]\n",
      "    fold  4:  [0.79032258]\n",
      "    ----\n",
      "    MEAN:     [0.75931613] + [0.03058281]\n",
      "    FULL:     [0.75922953]\n",
      "\n",
      "model  5:     [ExtraTreesClassifier]\n",
      "    fold  0:  [0.74400000]\n",
      "    fold  1:  [0.73600000]\n",
      "    fold  2:  [0.72800000]\n",
      "    fold  3:  [0.82258065]\n",
      "    fold  4:  [0.80645161]\n",
      "    ----\n",
      "    MEAN:     [0.76740645] + [0.03913007]\n",
      "    FULL:     [0.76725522]\n",
      "\n",
      "model  6:     [BaggingClassifier]\n",
      "    fold  0:  [0.81600000]\n",
      "    fold  1:  [0.76800000]\n",
      "    fold  2:  [0.75200000]\n",
      "    fold  3:  [0.83064516]\n",
      "    fold  4:  [0.81451613]\n",
      "    ----\n",
      "    MEAN:     [0.79623226] + [0.03053806]\n",
      "    FULL:     [0.79614767]\n",
      "\n",
      "model  7:     [GradientBoostingClassifier]\n",
      "    fold  0:  [0.76800000]\n",
      "    fold  1:  [0.81600000]\n",
      "    fold  2:  [0.76000000]\n",
      "    fold  3:  [0.83870968]\n",
      "    fold  4:  [0.79032258]\n",
      "    ----\n",
      "    MEAN:     [0.79460645] + [0.02941646]\n",
      "    FULL:     [0.79454254]\n",
      "\n",
      "model  8:     [XGBClassifier]\n",
      "    fold  0:  [0.80000000]\n",
      "    fold  1:  [0.82400000]\n",
      "    fold  2:  [0.74400000]\n",
      "    fold  3:  [0.83870968]\n",
      "    fold  4:  [0.79032258]\n",
      "    ----\n",
      "    MEAN:     [0.79940645] + [0.03256480]\n",
      "    FULL:     [0.79935795]\n",
      "\n",
      "model  9:     [AdaBoostClassifier]\n",
      "    fold  0:  [0.78400000]\n",
      "    fold  1:  [0.81600000]\n",
      "    fold  2:  [0.72000000]\n",
      "    fold  3:  [0.80645161]\n",
      "    fold  4:  [0.77419355]\n",
      "    ----\n",
      "    MEAN:     [0.78012903] + [0.03360155]\n",
      "    FULL:     [0.78009631]\n",
      "\n",
      "model 10:     [GaussianNB]\n",
      "    fold  0:  [0.78400000]\n",
      "    fold  1:  [0.80800000]\n",
      "    fold  2:  [0.71200000]\n",
      "    fold  3:  [0.77419355]\n",
      "    fold  4:  [0.77419355]\n",
      "    ----\n",
      "    MEAN:     [0.77047742] + [0.03174282]\n",
      "    FULL:     [0.77046549]\n",
      "\n",
      "model 11:     [GaussianProcessClassifier]\n",
      "    fold  0:  [0.78400000]\n",
      "    fold  1:  [0.79200000]\n",
      "    fold  2:  [0.72000000]\n",
      "    fold  3:  [0.82258065]\n",
      "    fold  4:  [0.79838710]\n",
      "    ----\n",
      "    MEAN:     [0.78339355] + [0.03421583]\n",
      "    FULL:     [0.78330658]\n",
      "\n"
     ]
    }
   ],
   "source": [
    "# Stacking\n",
    "\n",
    "from vecstack import stacking\n",
    "\n",
    "train_S, test_S = stacking(model,                   \n",
    "                           train_x, train_y, test_x,   \n",
    "                           regression=False, \n",
    "                           mode='oof_pred_bag', \n",
    "                           needs_proba=False,\n",
    "                           save_dir=None, \n",
    "                           metric=accuracy_score, \n",
    "                           n_folds=5, \n",
    "                           stratified=False,\n",
    "                           shuffle=False,  \n",
    "                           random_state=42,    \n",
    "                           verbose=2)"
   ]
  },
  {
   "cell_type": "code",
   "execution_count": 0,
   "metadata": {
    "colab": {
     "base_uri": "https://localhost:8080/",
     "height": 34
    },
    "colab_type": "code",
    "id": "0kF-GjlG7cQr",
    "outputId": "a1704f20-6600-4eaa-fe99-d2913046133a"
   },
   "outputs": [
    {
     "data": {
      "text/plain": [
       "(623, 28)"
      ]
     },
     "execution_count": 110,
     "metadata": {
      "tags": []
     },
     "output_type": "execute_result"
    }
   ],
   "source": [
    "np.concatenate((train_x, train_S), axis=1).shape"
   ]
  },
  {
   "cell_type": "code",
   "execution_count": 0,
   "metadata": {
    "colab": {
     "base_uri": "https://localhost:8080/",
     "height": 68
    },
    "colab_type": "code",
    "id": "j9kh10_g5DA5",
    "outputId": "d2343991-064f-4d8b-a3d9-d255505fcfef"
   },
   "outputs": [
    {
     "name": "stdout",
     "output_type": "stream",
     "text": [
      "XGB: Accuracy= 0.8577\n",
      "[[140  21]\n",
      " [ 17  89]]\n"
     ]
    }
   ],
   "source": [
    "# Second level XGB\n",
    "\n",
    "seclev = XGBClassifier(random_state=42)\n",
    "seclev.fit(np.concatenate((train_x, train_S), axis=1), train_y)\n",
    "sec_lev_test_pred = seclev.predict(np.concatenate((test_x, test_S), axis=1))\n",
    "\n",
    "print('XGB: Accuracy= {:.4f}'.format(accuracy_score(sec_lev_test_pred, test_y)))\n",
    "print(confusion_matrix(sec_lev_test_pred, test_y))"
   ]
  },
  {
   "cell_type": "code",
   "execution_count": 0,
   "metadata": {
    "colab": {
     "base_uri": "https://localhost:8080/",
     "height": 204
    },
    "colab_type": "code",
    "id": "x7MvLtb95v_F",
    "outputId": "28077e07-c760-4581-f1e9-e6563af711ce"
   },
   "outputs": [
    {
     "data": {
      "text/html": [
       "<div>\n",
       "<style scoped>\n",
       "    .dataframe tbody tr th:only-of-type {\n",
       "        vertical-align: middle;\n",
       "    }\n",
       "\n",
       "    .dataframe tbody tr th {\n",
       "        vertical-align: top;\n",
       "    }\n",
       "\n",
       "    .dataframe thead th {\n",
       "        text-align: right;\n",
       "    }\n",
       "</style>\n",
       "<table border=\"1\" class=\"dataframe\">\n",
       "  <thead>\n",
       "    <tr style=\"text-align: right;\">\n",
       "      <th></th>\n",
       "      <th>PassengerId</th>\n",
       "      <th>Survived</th>\n",
       "    </tr>\n",
       "  </thead>\n",
       "  <tbody>\n",
       "    <tr>\n",
       "      <th>413</th>\n",
       "      <td>1305</td>\n",
       "      <td>0</td>\n",
       "    </tr>\n",
       "    <tr>\n",
       "      <th>414</th>\n",
       "      <td>1306</td>\n",
       "      <td>1</td>\n",
       "    </tr>\n",
       "    <tr>\n",
       "      <th>415</th>\n",
       "      <td>1307</td>\n",
       "      <td>0</td>\n",
       "    </tr>\n",
       "    <tr>\n",
       "      <th>416</th>\n",
       "      <td>1308</td>\n",
       "      <td>0</td>\n",
       "    </tr>\n",
       "    <tr>\n",
       "      <th>417</th>\n",
       "      <td>1309</td>\n",
       "      <td>1</td>\n",
       "    </tr>\n",
       "  </tbody>\n",
       "</table>\n",
       "</div>"
      ],
      "text/plain": [
       "     PassengerId  Survived\n",
       "413         1305         0\n",
       "414         1306         1\n",
       "415         1307         0\n",
       "416         1308         0\n",
       "417         1309         1"
      ]
     },
     "execution_count": 114,
     "metadata": {
      "tags": []
     },
     "output_type": "execute_result"
    }
   ],
   "source": [
    "# Submission\n",
    "\n",
    "train_S, S = stacking(model,                   \n",
    "                      train_x, train_y, test,   \n",
    "                      regression=False, \n",
    "                      mode='oof_pred_bag', \n",
    "                      needs_proba=True,\n",
    "                      save_dir=None, \n",
    "                      metric=accuracy_score, \n",
    "                      n_folds=5, \n",
    "                      stratified=False,\n",
    "                      shuffle=False,  \n",
    "                      random_state=42,    \n",
    "                      verbose=0)\n",
    "\n",
    "seclev = XGBClassifier(random_state=42)\n",
    "seclev.fit(np.concatenate((train_x, train_S), axis=1), train_y)\n",
    "\n",
    "prediction = seclev.predict(np.concatenate((test, S), axis=1))\n",
    "\n",
    "submission = pd.DataFrame({'PassengerId': test_id,\n",
    "                           'Survived': prediction})\n",
    "\n",
    "submission.tail()"
   ]
  },
  {
   "cell_type": "code",
   "execution_count": 0,
   "metadata": {
    "colab": {
     "base_uri": "https://localhost:8080/",
     "height": 204
    },
    "colab_type": "code",
    "id": "Emu8P_CBg05p",
    "outputId": "ccf8fdd8-cc04-4859-f152-e2fdc6521237"
   },
   "outputs": [
    {
     "data": {
      "text/html": [
       "<div>\n",
       "<style scoped>\n",
       "    .dataframe tbody tr th:only-of-type {\n",
       "        vertical-align: middle;\n",
       "    }\n",
       "\n",
       "    .dataframe tbody tr th {\n",
       "        vertical-align: top;\n",
       "    }\n",
       "\n",
       "    .dataframe thead th {\n",
       "        text-align: right;\n",
       "    }\n",
       "</style>\n",
       "<table border=\"1\" class=\"dataframe\">\n",
       "  <thead>\n",
       "    <tr style=\"text-align: right;\">\n",
       "      <th></th>\n",
       "      <th>PassengerId</th>\n",
       "      <th>Survived</th>\n",
       "    </tr>\n",
       "  </thead>\n",
       "  <tbody>\n",
       "    <tr>\n",
       "      <th>413</th>\n",
       "      <td>1305</td>\n",
       "      <td>0</td>\n",
       "    </tr>\n",
       "    <tr>\n",
       "      <th>414</th>\n",
       "      <td>1306</td>\n",
       "      <td>1</td>\n",
       "    </tr>\n",
       "    <tr>\n",
       "      <th>415</th>\n",
       "      <td>1307</td>\n",
       "      <td>0</td>\n",
       "    </tr>\n",
       "    <tr>\n",
       "      <th>416</th>\n",
       "      <td>1308</td>\n",
       "      <td>0</td>\n",
       "    </tr>\n",
       "    <tr>\n",
       "      <th>417</th>\n",
       "      <td>1309</td>\n",
       "      <td>1</td>\n",
       "    </tr>\n",
       "  </tbody>\n",
       "</table>\n",
       "</div>"
      ],
      "text/plain": [
       "     PassengerId  Survived\n",
       "413         1305         0\n",
       "414         1306         1\n",
       "415         1307         0\n",
       "416         1308         0\n",
       "417         1309         1"
      ]
     },
     "execution_count": 278,
     "metadata": {
      "tags": []
     },
     "output_type": "execute_result"
    }
   ],
   "source": [
    "# Alternatively\n",
    "# Classifier ensemble - submission\n",
    "'''\n",
    "voting_softness = 'soft'\n",
    "\n",
    "vote = VotingClassifier(estimators=[('KNN', knn),\n",
    "                                    ('Logistic Regression', logreg), \n",
    "                                    ('SVM', svc),\n",
    "                                    ('Random Forest', rfc),\n",
    "                                    ('Decision Tree', dtc),\n",
    "                                    ('Extra Trees', etc),\n",
    "                                    ('Bagging', bagc), \n",
    "                                    ('Gradient Boosting', gbc),\n",
    "                                    ('XGB', xgb), \n",
    "                                    ('AdaBoost', abc),\n",
    "                                    ('Naïve Bayes', nb),\n",
    "                                    ('Gaussian Process', gp)], \n",
    "                        voting=voting_softness,\n",
    "                        weights=acc_summ)\n",
    "\n",
    "vote = vote.fit(train_x,train_y)\n",
    "\n",
    "prediction = vote.predict(test)\n",
    "\n",
    "submission = pd.DataFrame({'PassengerId': test_id,\n",
    "                           'Survived': prediction})\n",
    "\n",
    "submission.tail()\n",
    "'''"
   ]
  },
  {
   "cell_type": "code",
   "execution_count": 0,
   "metadata": {
    "colab": {
     "base_uri": "https://localhost:8080/",
     "height": 204
    },
    "colab_type": "code",
    "id": "o7wLt_CcpExZ",
    "outputId": "e45c9e9e-df86-4a32-f57b-c085bc978d3a"
   },
   "outputs": [
    {
     "data": {
      "text/html": [
       "<div>\n",
       "<style scoped>\n",
       "    .dataframe tbody tr th:only-of-type {\n",
       "        vertical-align: middle;\n",
       "    }\n",
       "\n",
       "    .dataframe tbody tr th {\n",
       "        vertical-align: top;\n",
       "    }\n",
       "\n",
       "    .dataframe thead th {\n",
       "        text-align: right;\n",
       "    }\n",
       "</style>\n",
       "<table border=\"1\" class=\"dataframe\">\n",
       "  <thead>\n",
       "    <tr style=\"text-align: right;\">\n",
       "      <th></th>\n",
       "      <th>PassengerId</th>\n",
       "      <th>Survived</th>\n",
       "    </tr>\n",
       "  </thead>\n",
       "  <tbody>\n",
       "    <tr>\n",
       "      <th>413</th>\n",
       "      <td>1305</td>\n",
       "      <td>0</td>\n",
       "    </tr>\n",
       "    <tr>\n",
       "      <th>414</th>\n",
       "      <td>1306</td>\n",
       "      <td>1</td>\n",
       "    </tr>\n",
       "    <tr>\n",
       "      <th>415</th>\n",
       "      <td>1307</td>\n",
       "      <td>0</td>\n",
       "    </tr>\n",
       "    <tr>\n",
       "      <th>416</th>\n",
       "      <td>1308</td>\n",
       "      <td>0</td>\n",
       "    </tr>\n",
       "    <tr>\n",
       "      <th>417</th>\n",
       "      <td>1309</td>\n",
       "      <td>0</td>\n",
       "    </tr>\n",
       "  </tbody>\n",
       "</table>\n",
       "</div>"
      ],
      "text/plain": [
       "     PassengerId  Survived\n",
       "413         1305         0\n",
       "414         1306         1\n",
       "415         1307         0\n",
       "416         1308         0\n",
       "417         1309         0"
      ]
     },
     "execution_count": 99,
     "metadata": {
      "tags": []
     },
     "output_type": "execute_result"
    }
   ],
   "source": [
    "# Check submission format with sample\n",
    "\n",
    "DIR = '/content/gdrive/My Drive/Colab Notebooks/Kaggle/Titanic/'\n",
    "f = DIR + 'gender_submission.csv'\n",
    "df_sample = pd.read_csv(f)\n",
    "df_sample.tail()"
   ]
  },
  {
   "cell_type": "code",
   "execution_count": 0,
   "metadata": {
    "colab": {},
    "colab_type": "code",
    "collapsed": true,
    "id": "EtQFStHKBxUT"
   },
   "outputs": [],
   "source": [
    "# Export the model\n",
    "\n",
    "import pickle\n",
    "\n",
    "DIR = '/content/gdrive/My Drive/Colab Notebooks/Kaggle/Titanic/'\n",
    "f = DIR + 'model_soft.pkl'\n",
    "pickle.dump(vote, open(f,'wb'))\n",
    "\n",
    "f = DIR + 'scaler.pkl'\n",
    "pickle.dump(scaler, open(f,'wb'))"
   ]
  },
  {
   "cell_type": "code",
   "execution_count": 0,
   "metadata": {
    "colab": {
     "base_uri": "https://localhost:8080/",
     "height": 34
    },
    "colab_type": "code",
    "id": "01obBq0ApYMY",
    "outputId": "464273f8-330d-48d2-a464-3bd0e8ce8ae9"
   },
   "outputs": [
    {
     "name": "stdout",
     "output_type": "stream",
     "text": [
      "File path: /content/gdrive/My Drive/Colab Notebooks/Kaggle/Titanic/titanic_submission_06.csv\n"
     ]
    }
   ],
   "source": [
    "# Save as .csv\n",
    "\n",
    "DIR = '/content/gdrive/My Drive/Colab Notebooks/Kaggle/Titanic/'\n",
    "version = '06'\n",
    "f = DIR + 'titanic_submission_{}.csv'.format(version)\n",
    "\n",
    "submission.to_csv(f, index=False)\n",
    "print('File path: {}'.format(f))"
   ]
  },
  {
   "cell_type": "code",
   "execution_count": 0,
   "metadata": {
    "colab": {},
    "colab_type": "code",
    "collapsed": true,
    "id": "y1loCh0zy2UZ"
   },
   "outputs": [],
   "source": []
  }
 ],
 "metadata": {
  "accelerator": "GPU",
  "colab": {
   "include_colab_link": true,
   "name": "classification.ipynb",
   "provenance": [],
   "version": "0.3.2"
  },
  "kernelspec": {
   "display_name": "Python 3",
   "language": "python",
   "name": "python3"
  },
  "varInspector": {
   "cols": {
    "lenName": 16,
    "lenType": 16,
    "lenVar": 40
   },
   "kernels_config": {
    "python": {
     "delete_cmd_postfix": "",
     "delete_cmd_prefix": "del ",
     "library": "var_list.py",
     "varRefreshCmd": "print(var_dic_list())"
    },
    "r": {
     "delete_cmd_postfix": ") ",
     "delete_cmd_prefix": "rm(",
     "library": "var_list.r",
     "varRefreshCmd": "cat(var_dic_list()) "
    }
   },
   "types_to_exclude": [
    "module",
    "function",
    "builtin_function_or_method",
    "instance",
    "_Feature"
   ],
   "window_display": false
  }
 },
 "nbformat": 4,
 "nbformat_minor": 1
}
